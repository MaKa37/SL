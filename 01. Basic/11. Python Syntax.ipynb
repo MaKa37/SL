{
 "cells": [
  {
   "cell_type": "markdown",
   "id": "7392ba66-99b4-47d1-bcfc-61e9b28c4e3c",
   "metadata": {},
   "source": [
    "# 파이썬 기초 문법 공부(Python Basic Syntax Learning)"
   ]
  },
  {
   "cell_type": "markdown",
   "id": "123312b8-ae42-4809-a947-6c643cc3126c",
   "metadata": {},
   "source": [
    "## 01. 숫자(Numbers)와 문자열(String)"
   ]
  },
  {
   "cell_type": "code",
   "execution_count": 19,
   "id": "25a855ea-87e0-4243-bf06-6a545ecbee7a",
   "metadata": {},
   "outputs": [
    {
     "name": "stdout",
     "output_type": "stream",
     "text": [
      "10 -3 0\n"
     ]
    }
   ],
   "source": [
    "# 정수(integer): 소수점이 없는 숫자\n",
    "# a, b, c에 변수인 정수(integer) 값 저장\n",
    "a = 10\n",
    "b = -3\n",
    "c = 0\n",
    "\n",
    "print(a, b, c) #출력"
   ]
  },
  {
   "cell_type": "code",
   "execution_count": 20,
   "id": "8c516f1b-3141-41e6-b45d-82b2ba1a6cb7",
   "metadata": {},
   "outputs": [
    {
     "name": "stdout",
     "output_type": "stream",
     "text": [
      "3.14 -0.5 2.0\n"
     ]
    }
   ],
   "source": [
    "# 실수(Floating-point number): 소수점이 있는 숫자\n",
    "# pi, negative_float, float_num에 변수인 실수(Floating-point number) 값 저장\n",
    "\n",
    "pi = 3.14\n",
    "negative_float = -0.5\n",
    "float_num = 2.0\n",
    "\n",
    "print(pi, negative_float, float_num) #출력"
   ]
  },
  {
   "cell_type": "code",
   "execution_count": 21,
   "id": "ff21994a-5a78-478a-8867-a6c3e01735ae",
   "metadata": {},
   "outputs": [
    {
     "name": "stdout",
     "output_type": "stream",
     "text": [
      "홍길동\n",
      "\n",
      "안녕하세요!\n"
     ]
    }
   ],
   "source": [
    "# 문자열(Strings)\n",
    "\n",
    "name = \"홍길동\"\n",
    "greeting = '안녕하세요!'\n",
    "empty_string = \"\" # 빈 문자열\n",
    "\n",
    "print(name)\n",
    "print(empty_string)\n",
    "print(greeting)"
   ]
  },
  {
   "cell_type": "code",
   "execution_count": 22,
   "id": "4efdc1fc-7264-46aa-a4b4-b942c5753151",
   "metadata": {},
   "outputs": [
    {
     "name": "stdout",
     "output_type": "stream",
     "text": [
      "그는 '안녕하세요'라고 말했습니다.\n",
      "그는 \"안녕하세요\"라고 말했습니다.\n",
      "그는 '안녕하세요'라고 말했습니다.\n"
     ]
    }
   ],
   "source": [
    "# 따옴표 사용 주의: 문자열 안에 따옴표를 넣고 싶을 때는\n",
    "# 바깥쪽 따옴표와 다른 종류를 사용하거나, 이스케이프 문자(\\)를 사용합니다.\n",
    "sentence1 = \"그는 '안녕하세요'라고 말했습니다.\"\n",
    "sentence2 = '그는 \"안녕하세요\"라고 말했습니다.'\n",
    "sentence3 = '그는 \\'안녕하세요\\'라고 말했습니다.' # 이스케이프 문자 사용\n",
    "\n",
    "print(sentence1)\n",
    "print(sentence2)\n",
    "print(sentence3)"
   ]
  },
  {
   "cell_type": "code",
   "execution_count": 23,
   "id": "b952728a-b759-425c-9746-d8b04582bae9",
   "metadata": {},
   "outputs": [
    {
     "name": "stdout",
     "output_type": "stream",
     "text": [
      "\n",
      "여러 줄에 걸친\n",
      "문자열입니다.\n",
      "줄바꿈도 그대로 유지됩니다.\n",
      "\n",
      "여러 줄에 걸친\n",
      "문자열입니다.\n",
      "줄바꿈도 그대로 유지됩니다.\n"
     ]
    }
   ],
   "source": [
    "# 줄 바꿈하여 입력하였기에 위 아래로 \\n 개행(줄 바꿈) 처리됨.\n",
    "multi_line_string = \"\"\"\n",
    "여러 줄에 걸친\n",
    "문자열입니다.\n",
    "줄바꿈도 그대로 유지됩니다.\n",
    "\"\"\"\n",
    "\n",
    "print(multi_line_string)\n",
    "\n",
    "multi_line_string2 = \"\"\"여러 줄에 걸친\n",
    "문자열입니다.\n",
    "줄바꿈도 그대로 유지됩니다.\"\"\"\n",
    "\n",
    "print(multi_line_string2)"
   ]
  },
  {
   "cell_type": "markdown",
   "id": "b1d1f3a1-ac4e-41de-b3d3-70271b21cc35",
   "metadata": {},
   "source": [
    "## 02. 기본 연산자(Basic Operators)\n",
    "\n",
    "연산자는 숫자나 문자열을 가지고 계산을 하거나 어떤 작업을 수행하도록 하는 기호입니다.\n",
    "\n",
    "* 산술 연산자 (Arithmetic Operators): 숫자 계산에 사용됩니다.\n",
    "\n",
    "\n",
    "| 연산자 | 설명         | 예시 (a=10, b=3) | 결과 |\n",
    "| :----- | :----------- | :--------------- | :--- |\n",
    "| +    | 덧셈         | a + b          | 13 |\n",
    "| -    | 뺄셈         | a - b          | 7  |\n",
    "| *    | 곱셈         | a * b          | 30 |\n",
    "| /    | 나눗셈       | a / b          | 3.333... (결과는 항상 실수) |\n",
    "| //   | 몫           | a // b         | 3  |\n",
    "| %    | 나머지       | a % b          | 1  |\n",
    "| **   | 거듭제곱     | a ** b         | 1000 (10의 3제곱) |"
   ]
  },
  {
   "cell_type": "code",
   "execution_count": 25,
   "id": "26682c8f-3cbf-4066-937a-5deee3a6725e",
   "metadata": {},
   "outputs": [
    {
     "name": "stdout",
     "output_type": "stream",
     "text": [
      "a + b = 13\n",
      "a - b = 7\n",
      "a * b = 30\n",
      "a / b = 3.3333333333333335\n",
      "a // b = 3\n",
      "a % b = 1\n",
      "a ** b = 1000\n"
     ]
    }
   ],
   "source": [
    "# 기본 연산자 (Basic Operators)\n",
    "a = 10\n",
    "b = 3\n",
    "print(\"a + b =\", a + b)\n",
    "print(\"a - b =\", a - b)\n",
    "print(\"a * b =\", a * b)\n",
    "print(\"a / b =\", a / b)\n",
    "print(\"a // b =\", a // b)\n",
    "print(\"a % b =\", a % b)\n",
    "print(\"a ** b =\", a ** b)"
   ]
  },
  {
   "cell_type": "markdown",
   "id": "cf322146-9621-4c16-9992-669663dc494f",
   "metadata": {},
   "source": [
    "* 문자열 연산자 (String Operators):\n",
    "    * (연결, Concatenation): 두 문자열을 이어 붙입니다."
   ]
  },
  {
   "cell_type": "code",
   "execution_count": 26,
   "id": "1202567d-69fb-4b2c-bb56-6c168c2cd4ca",
   "metadata": {},
   "outputs": [
    {
     "name": "stdout",
     "output_type": "stream",
     "text": [
      "파이썬 마스터\n"
     ]
    }
   ],
   "source": [
    "first_name = \"파이썬\"\n",
    "last_name = \"마스터\"\n",
    "full_name = first_name + \" \" + last_name # 중간에 공백 추가\n",
    "print(full_name) # 결과: 파이썬 마스터"
   ]
  },
  {
   "cell_type": "markdown",
   "id": "c2a369fe-aa91-4d2d-8e43-3655da03d4de",
   "metadata": {},
   "source": [
    "* (반복, Repetition): 문자열을 여러 번 반복합니다.\n",
    "\n",
    "주의: 문자열과 숫자를 + 연산자로 직접 더하려고 하면 오류가 발생합니다.  \n",
    "숫자를 문자열로 변환해야 합니다 (예: str(숫자))."
   ]
  },
  {
   "cell_type": "code",
   "execution_count": 27,
   "id": "70935a4f-7b50-4d5b-b6af-2fe0031d0664",
   "metadata": {},
   "outputs": [
    {
     "name": "stdout",
     "output_type": "stream",
     "text": [
      "하하하하하\n"
     ]
    }
   ],
   "source": [
    "laugh = \"하\"\n",
    "lots_of_laughs = laugh * 5\n",
    "print(lots_of_laughs) # 결과: 하하하하하"
   ]
  },
  {
   "cell_type": "markdown",
   "id": "e3df28fc-fe31-4b26-a378-0fa5d77be867",
   "metadata": {},
   "source": [
    "* 할당 연산자 (Assignment Operators): 변수에 값을 할당(저장)할 때 사용합니다.\n",
    "\n",
    "    * =: 오른쪽의 값을 왼쪽 변수에 할당합니다. (예: x = 5)\n",
    "    * 복합 할당 연산자: 산술 연산과 할당을 동시에 수행합니다.\n",
    "        * += (예: x += 2는 x = x + 2와 같습니다)\n",
    "        * -= (예: x -= 2는 x = x - 2와 같습니다)\n",
    "        * *= (예: x *= 2는 x = x * 2와 같습니다)\n",
    "        * /= (예: x /= 2는 x = x / 2와 같습니다)"
   ]
  },
  {
   "cell_type": "code",
   "execution_count": 28,
   "id": "45300518-1ea5-4358-a4e1-a5f23a9a6485",
   "metadata": {},
   "outputs": [
    {
     "name": "stdout",
     "output_type": "stream",
     "text": [
      "카운트: 1\n",
      "총합: 90\n"
     ]
    }
   ],
   "source": [
    "count = 0\n",
    "count += 1 # count = count + 1\n",
    "print(\"카운트:\", count) # 결과: 카운트: 1\n",
    "\n",
    "total = 100\n",
    "total -= 10 # total = total - 10\n",
    "print(\"총합:\", total) # 결과: 총합: 90"
   ]
  },
  {
   "cell_type": "markdown",
   "id": "a66b3527-c1db-4f78-84cd-6b3b6308a31e",
   "metadata": {},
   "source": [
    "## 03. 표현식 (Expressions)\n",
    "\n",
    "표현식은 값(value), 변수(variable), 연산자(operator), 함수 호출(function call) 등이 조합되어 **하나의 값으로 평가될 수 있는 코드 조각**을 의미합니다.\n",
    "\n",
    "* 10 + 5는 15라는 값으로 평가되는 표현식입니다.\n",
    "* name = \"홍길동\"에서 \"홍길동\"은 문자열 값이며, name은 변수입니다. name 자체도 하나의 값(이 경우 \"홍길동\")을 나타내는 표현식이 될 수 있습니다.\n",
    "* a * b - c 와 같이 여러 연산자가 포함된 것도 표현식입니다.\n",
    "  \n",
    "파이썬은 표현식을 계산하여 결과를 만들어냅니다. print() 함수 안에 들어가는 것들은 대부분 표현식이라고 생각할 수 있습니다."
   ]
  },
  {
   "cell_type": "code",
   "execution_count": 29,
   "id": "728552f1-a316-465b-93de-e25ec7409730",
   "metadata": {},
   "outputs": [
    {
     "name": "stdout",
     "output_type": "stream",
     "text": [
      "30\n",
      "나이: 30\n"
     ]
    }
   ],
   "source": [
    "# 표현식 예시\n",
    "x = 5\n",
    "y = 10\n",
    "z = (x + y) * 2  # (x + y)도 표현식, (x + y) * 2도 표현식\n",
    "print(z)         # z는 30으로 평가됩니다.\n",
    "\n",
    "message = \"나이: \" + str(30) # str(30)은 숫자 30을 문자열 \"30\"으로 변환하는 표현식\n",
    "                           # 전체는 \"나이: 30\"이라는 문자열로 평가됩니다.\n",
    "print(message)"
   ]
  },
  {
   "cell_type": "markdown",
   "id": "270e83ef-2646-4be0-83f6-2735deb2ffed",
   "metadata": {},
   "source": [
    "* 숫자: 정수(예: 5, -10)와 실수(예: 3.14, 2.7)가 있습니다.\n",
    "* 문자열: 글자들의 나열로, 따옴표(' 또는 \")로 감싸서 만듭니다. (예: \"안녕하세요\", 'Python')\n",
    "* 기본 연산자:\n",
    "    * 산술 연산자: +, -, *, /, //, %, **\n",
    "    * 문자열 연산자: + (연결), * (반복)\n",
    "    * 할당 연산자: =, +=, -=, 등\n",
    "* 표현식: 값, 변수, 연산자 등을 조합하여 하나의 값으로 계산되는 코드입니다."
   ]
  },
  {
   "cell_type": "markdown",
   "id": "f0a6fc27-4e7c-4002-b3cb-c5f9cd37ce97",
   "metadata": {},
   "source": [
    "## 04. 함수(function)\n",
    "\n",
    "함수는 특정 작업을 반복적으로 수행하는 코드의 집합으로 이름을 붙여서 필요할 때마다 사용할 수 있도록 만든 것으로 다음과 같은 장점이 있습니다.\n",
    "\n",
    "* 재사용성: 똑같은 코드를 여러 번 작성할 필요 없이 함수 호출 한 번으로 해결할 수 있습니다.\n",
    "* 가독성: 코드가 기능별로 잘 정리되어 이해하기 쉬워집니다.\n",
    "* 모듈화: 프로그램을 여러 개의 작은 함수 단위로 나누어 만들 수 있어서 복잡한 프로그램도 체계적으로 관리할 수 있습니다.\n",
    "\n",
    "**함수 정의하기(Defining a Function):**\n",
    "\n",
    "파이썬에서 함수는 def 키워드를 사용하여 정의합니다.  \n",
    "기본적인 구조는 다음과 같아요.\n",
    "\n",
    "```python\n",
    "# 함수 이름과 괄호 안에는 매개변수(옵션)를 넣습니다.\n",
    "# 콜론(:)으로 끝납니다.\n",
    "\n",
    "def 함수이름(매개변수1, 매개변수2, ...):\n",
    "    # 이 부분은 함수의 몸통(body)입니다.\n",
    "    # 반드시 들여쓰기를 해야 합니다!\n",
    "    수행할_문장1\n",
    "    수행할_문장2\n",
    "    \n",
    "    # 함수가 실행된 후 결과를 돌려줄 필요가 있을 때 사용 (옵션)\n",
    "    return 반환값\n",
    "```\n",
    "\n",
    "* def: 함수를 정의하겠다는 키워드입니다.\n",
    "* 함수이름: 함수를 식별하는 이름입니다. 변수 이름 규칙과 비슷하게 만듭니다 (보통 소문자와 언더스코어(_)를 사용).\n",
    "* 매개변수 (Parameter): 함수가 작업을 수행하는 데 필요한 값을 전달받는 통로입니다. 괄호 () 안에 작성하며, 여러 개일 경우 쉼표(,)로 구분합니다. 필요 없다면 비워둘 수 있습니다.\n",
    "* : (콜론): 함수 정의부의 끝을 나타냅니다.\n",
    "* 들여쓴 코드 블록 (함수 몸통): 함수가 호출되었을 때 실행될 코드들입니다. 매우 중요하게도, 이 코드들은 반드시 들여쓰기를 해야 합니다. (들여쓰기에 대해서는 아래에서 더 자세히 설명할게요!)\n",
    "* return: 함수가 작업을 마친 후 호출한 곳으로 결과값을 돌려줄 때 사용합니다. return 문이 없거나 return만 있는 함수는 특별한 값인 None을 반환합니다."
   ]
  },
  {
   "cell_type": "markdown",
   "id": "cf07d6fa-5745-4e12-9cdc-3d93bde9a207",
   "metadata": {},
   "source": [
    "**함수 호출하기(Calling a Function):**\n",
    "\n",
    "함수를 정의했다면, 이제 그 함수를 사용해야겠죠? 함수를 사용하는 것을 \"호출한다\"라고 합니다. 함수 이름 뒤에 괄호 ()를 붙여서 호출합니다. 만약 함수가 매개변수를 받는다면, 괄호 안에 필요한 값(인자, Argument)을 전달해야 합니다."
   ]
  },
  {
   "cell_type": "code",
   "execution_count": 30,
   "id": "afa9a05f-e616-4d2d-8543-bd7ba70f5370",
   "metadata": {},
   "outputs": [
    {
     "name": "stdout",
     "output_type": "stream",
     "text": [
      "안녕하세요!\n",
      "철수님, 안녕하세요!\n",
      "영희님, 안녕하세요!\n",
      "15\n",
      "300\n"
     ]
    }
   ],
   "source": [
    "# 간단한 함수 정의 예시\n",
    "def greet():  # 매개변수가 없는 함수\n",
    "    print(\"안녕하세요!\")\n",
    "\n",
    "def greet_by_name(name):  # 'name'이라는 매개변수 하나를 받는 함수\n",
    "    print(f\"{name}님, 안녕하세요!\") # f-string을 사용하면 문자열 안에 변수 값을 쉽게 넣을 수 있어요.\n",
    "\n",
    "def add(a, b):  # 두 개의 매개변수를 받아서 더한 결과를 반환하는 함수\n",
    "    result = a + b\n",
    "    return result\n",
    "\n",
    "# 함수 호출 예시\n",
    "greet()  # 출력: 안녕하세요!\n",
    "\n",
    "greet_by_name(\"철수\")  # 출력: 철수님, 안녕하세요!\n",
    "greet_by_name(\"영희\")  # 출력: 영희님, 안녕하세요!\n",
    "\n",
    "sum_result = add(10, 5)  # add 함수를 호출하고, 반환된 값을 sum_result 변수에 저장\n",
    "print(sum_result)        # 출력: 15\n",
    "\n",
    "another_sum = add(100, 200)\n",
    "print(another_sum)       # 출력: 300"
   ]
  },
  {
   "cell_type": "code",
   "execution_count": 34,
   "id": "34f6fefd-be2f-494e-9b0b-9994f2208d50",
   "metadata": {},
   "outputs": [
    {
     "name": "stdout",
     "output_type": "stream",
     "text": [
      "전달 받은 매개변수의 인자값은 공부하는, 인간 입니다.\n"
     ]
    }
   ],
   "source": [
    "def str_sum_str(astr, bstr):\n",
    "    print(f\"전달 받은 매개변수의 인자값은 {astr}, {bstr} 입니다.\")\n",
    "\n",
    "str_sum_str(\"공부하는\", \"인간\")"
   ]
  },
  {
   "cell_type": "markdown",
   "id": "34c3b7b2-6631-49e8-9e6a-eafb6cd7ffb2",
   "metadata": {},
   "source": [
    "### 매개변수(Parameters)와 인자(Arguments):\n",
    "\n",
    "* 매개변수(Parameter): 함수를 정의할 때 괄호 안에 선언하는 변수입니다. 함수 안에서 사용될 값을 받는 '자리 표시자'와 같습니다.\n",
    "* 인자(Argument): 함수를 호출할 때 괄호 안에 전달하는 실제 값입니다.\n",
    "\n",
    "위의 add(a, b) 함수에서 a와 b는 매개변수이고, add(10, 5)에서 10과 5는 인자입니다.\n",
    "\n",
    "**return 문의 역할:**\n",
    "\n",
    "return 문은 함수의 실행을 종료하고, 지정된 값을 함수를 호출한 곳으로 되돌려줍니다.  \n",
    "만약 함수가 어떤 결과를 계산하고 그 결과를 다른 곳에서 사용해야 한다면 return을 사용해야 합니다."
   ]
  },
  {
   "cell_type": "code",
   "execution_count": 33,
   "id": "1f7d9204-8645-44f3-bdb3-17c90acc9766",
   "metadata": {},
   "outputs": [
    {
     "name": "stdout",
     "output_type": "stream",
     "text": [
      "반지름이 5인 원의 넓이는 78.5 입니다.\n",
      "Hello\n",
      "print_message 함수의 반환값: None\n"
     ]
    }
   ],
   "source": [
    "def calculate_area(radius):\n",
    "    area = 3.14 * radius * radius\n",
    "    return area # 계산된 넓이 값을 반환\n",
    "\n",
    "circle_area = calculate_area(5) # radius에 5가 전달되고, 계산된 넓이가 circle_area에 저장됨\n",
    "print(f\"반지름이 5인 원의 넓이는 {circle_area} 입니다.\")\n",
    "\n",
    "# return이 없는 함수 (또는 return만 있는 함수)\n",
    "def print_message(message):\n",
    "    print(message) # 화면에 출력만 하고, 특별히 값을 반환하지 않음\n",
    "\n",
    "result_from_print = print_message(\"Hello\")\n",
    "print(f\"print_message 함수의 반환값: {result_from_print}\") # 출력: print_message 함수의 반환값: None = 값이 없음"
   ]
  },
  {
   "cell_type": "markdown",
   "id": "898f778c-e112-48b1-8a94-e1a07d40a298",
   "metadata": {},
   "source": [
    "## 05. 들여쓰기\n",
    "\n",
    "파이썬에서 들여쓰기는 매우 매우 중요합니다! 다른 많은 프로그래밍 언어(예: C, Java, JavaScript)에서는 코드 블록을 중괄호 {}를 사용하여 구분하지만, 파이썬은 들여쓰기 자체로 코드 블록을 구분합니다.\n",
    "\n",
    "* 언제 들여쓰기를 하나요?\n",
    "    * 함수 정의 내부 (def 다음 줄부터)\n",
    "    * 조건문 (if, elif, else 다음 줄부터) - 나중에 배울 거예요!\n",
    "    * 반복문 (for, while 다음 줄부터) - 나중에 배울 거예요!\n",
    "    * 클래스 정의 내부 (class 다음 줄부터) - 나중에 배울 거예요!\n",
    "    * 기타 논리적인 코드 블록이 시작될 때  \n",
    "\n",
    "* 어떻게 들여쓰기를 하나요?\n",
    "    * 일반적으로 공백(스페이스) 4칸을 사용하는 것이 파이썬 커뮤니티의 표준 권장 사항(PEP 8 스타일 가이드)입니다.\n",
    "    * 탭(Tab)을 사용할 수도 있지만, 스페이스와 탭을 섞어 쓰는 것은 피해야 합니다. 오류의 원인이 될 수 있습니다. 대부분의 코드 편집기는 탭 키를 누르면 자동으로 스페이스 4칸으로 변환해주는 기능을 제공합니다.  \n",
    "\n",
    "* 왜 중요한가요?\n",
    "    * 들여쓰기가 잘못되면 IndentationError라는 문법 오류가 발생하여 프로그램이 실행되지 않습니다.\n",
    "    * 들여쓰기는 코드의 논리적 구조를 명확하게 보여주므로, 가독성을 높이는 데 큰 역할을 합니다."
   ]
  },
  {
   "cell_type": "markdown",
   "id": "0c160746-eaab-4ed0-aeba-d4462eb30e2d",
   "metadata": {},
   "source": [
    "## 06. 식별자(Identifier)\n",
    "\n",
    "**식별자**는 프로그래밍에서 변수, 함수, 클래스, 모듈 등 **이름을 붙이는 데 사용되는 단어**입니다. 쉽게 말해, 코드의 각 요소에 고유한 이름을 부여하여 나중에 그 요소를 참조하고 사용할 수 있도록 하는 역할을 합니다.\n",
    "\n",
    "식별자를 만드는 규칙:\n",
    "\n",
    "파이썬에서 식별자를 만들 때는 다음과 같은 규칙을 따라야 합니다.\n",
    "\n",
    "* **첫 글자는 반드시 영문자 (a-z, A-Z)나 밑줄 (_)로 시작해야 합니다.** 숫자로 시작할 수 없습니다.\n",
    "* 첫 글자 이후의 문자는 영문자, 숫자 (0-9), 밑줄 (_)만 사용할 수 있습니다. 공백이나 특수 문자($, #, @, !)는 사용할 수 없습니다.\n",
    "* 대소문자를 구분합니다. my_variable과 My_Variable은 서로 다른 식별자로 인식됩니다.\n",
    "* **예약어: Keyword**는 식별자로 사용할 수 없습니다. (예약어는 바로 뒤에서 설명합니다.)\n",
    "좋은 식별자 작성 관례 (Convention):\n",
    "\n",
    "규칙은 아니지만, 파이썬 커뮤니티에서 권장하는 식별자 작성 스타일입니다. 코드를 더 읽기 쉽고 이해하기 쉽게 만듭니다.\n",
    "\n",
    "* 변수와 함수 이름: 소문자로 작성하고, 여러 단어일 경우 밑줄(_)로 연결합니다. (예: my_variable, calculate_total) - 이것을 **Snake_case**라고 부릅니다.\n",
    "* 클래스 이름: 각 단어의 첫 글자를 대문자로 작성합니다. (예: MyClass, Calculator) - 이것을 **CamelCase**라고 부릅니다.\n",
    "\n",
    "**식별자 예시:**\n",
    "\n",
    "| 유형              | 예시                 | 설명                                           |\n",
    "| :---------------- | :------------------- | :--------------------------------------------- |\n",
    "| **유효한 식별자** | `age`                | 변수 이름                                      |\n",
    "|                   | `student_name`       | 변수 이름 (스네이크 케이스)                    |\n",
    "|                   | `_private_method`    | 밑줄로 시작 (내부 사용 관례)                   |\n",
    "|                   | `DataProcessor`      | 클래스 이름 (파스칼 케이스/대문자 시작 각 단어)  |\n",
    "|                   | `calculate_score`    | 함수 이름                                      |\n",
    "|                   | `value1`             | 숫자 포함 (첫 글자가 숫자가 아님)               |\n",
    "| **유효하지 않은 식별자** | `1st_place`          | 숫자로 시작함 (규칙 위반)                        |\n",
    "|                   | `user-id`            | 하이픈(`-`) 포함 (규칙 위반)                   |\n",
    "|                   | `total amount`       | 공백 포함 (규칙 위반)                          |\n",
    "|                   | `class`              | 예약어 사용 (규칙 위반)                        |\n",
    "|                   | `my!variable`        | 특수 문자(`!`) 포함 (규칙 위반)                  |"
   ]
  },
  {
   "cell_type": "markdown",
   "id": "23b2c3b3-b535-44ab-b11e-9b28a6ba1b79",
   "metadata": {},
   "source": [
    "## 07. 예약어(Keyword)\n",
    "\n",
    "예약어는 파이썬 언어 자체에서 특별한 의미를 가지는 단어들입니다. 이 단어들은 파이썬 문법의 일부를 구성하며, 특정 기능을 수행하도록 미리 정의되어 있습니다. 따라서 예약어는 식별자로 사용할 수 없습니다. 즉, 변수나 함수 등의 이름으로 예약어를 사용할 수 없습니다.\n",
    "\n",
    "파이썬 3 기준으로 현재 사용되는 예약어 목록은 다음과 같습니다.\n",
    "\n",
    "```python\n",
    "False      await      else       import     pass\n",
    "None       break      except     in         raise\n",
    "True       class      finally    is         return\n",
    "and        continue   for        lambda     try\n",
    "as         def        from       nonlocal   while\n",
    "assert     del        global     not        with\n",
    "async      elif       if         or         yield\n",
    "```"
   ]
  },
  {
   "cell_type": "code",
   "execution_count": 1,
   "id": "aac1899b-d380-4dd3-97e8-7efd7654506a",
   "metadata": {},
   "outputs": [
    {
     "ename": "NameError",
     "evalue": "name 'temperature' is not defined",
     "output_type": "error",
     "traceback": [
      "\u001b[31m---------------------------------------------------------------------------\u001b[39m",
      "\u001b[31mNameError\u001b[39m                                 Traceback (most recent call last)",
      "\u001b[36mCell\u001b[39m\u001b[36m \u001b[39m\u001b[32mIn[1]\u001b[39m\u001b[32m, line 2\u001b[39m\n\u001b[32m      1\u001b[39m \u001b[38;5;66;03m# 예시: 'if'는 조건문을 위한 예약어입니다.\u001b[39;00m\n\u001b[32m----> \u001b[39m\u001b[32m2\u001b[39m \u001b[38;5;28;01mif\u001b[39;00m \u001b[43mtemperature\u001b[49m > \u001b[32m30\u001b[39m:\n\u001b[32m      3\u001b[39m     \u001b[38;5;28mprint\u001b[39m(\u001b[33m\"\u001b[39m\u001b[33m더워요!\u001b[39m\u001b[33m\"\u001b[39m)\n\u001b[32m      5\u001b[39m \u001b[38;5;66;03m# 다음 코드는 SyntaxError를 발생시킵니다.\u001b[39;00m\n\u001b[32m      6\u001b[39m \u001b[38;5;66;03m# 'if'는 예약어이기 때문에 변수 이름으로 사용할 수 없습니다.\u001b[39;00m\n\u001b[32m      7\u001b[39m \u001b[38;5;66;03m# if = 100\u001b[39;00m\n",
      "\u001b[31mNameError\u001b[39m: name 'temperature' is not defined"
     ]
    }
   ],
   "source": [
    "# 예시: 'if'는 조건문을 위한 예약어입니다.\n",
    "if temperature > 30:\n",
    "    print(\"더워요!\")\n",
    "\n",
    "# 다음 코드는 SyntaxError를 발생시킵니다.\n",
    "# 'if'는 예약어이기 때문에 변수 이름으로 사용할 수 없습니다.\n",
    "# if = 100"
   ]
  },
  {
   "cell_type": "code",
   "execution_count": 2,
   "id": "46fe19fe-0a11-402a-ae16-d622c91ac551",
   "metadata": {},
   "outputs": [],
   "source": [
    "# 인사를 출력하는 함수\n",
    "def display_greeting():\n",
    "    print(\"파이썬 공부를 시작해봅시다!\")\n",
    "\n",
    "# 두 숫자를 더하는 함수\n",
    "def add_numbers(num1, num2):\n",
    "    result = num1 + num2\n",
    "    return result\n",
    "\n",
    "# 여러 단어 함수 (스네이크 케이스)\n",
    "def calculate_final_grade(exam_score, attendance_score):\n",
    "    final_grade = (exam_score * 0.7) + (attendance_score * 0.3)\n",
    "    return final_grade"
   ]
  },
  {
   "cell_type": "code",
   "execution_count": 8,
   "id": "c1e69538-a7f4-44ce-86c4-0990bbe1b8f8",
   "metadata": {},
   "outputs": [
    {
     "name": "stdout",
     "output_type": "stream",
     "text": [
      "파이썬 공부를 시작해봅시다!\n",
      "6\n",
      "78.0\n"
     ]
    }
   ],
   "source": [
    "display_greeting()\n",
    "\n",
    "print(add_numbers(2, 4))\n",
    "\n",
    "calculate_final_grade(75, 85)\n",
    "\n",
    "print(calculate_final_grade(75, 85))"
   ]
  },
  {
   "cell_type": "code",
   "execution_count": 9,
   "id": "5e9d42da-d952-4a72-9e21-a2a0a4fe1d4d",
   "metadata": {},
   "outputs": [],
   "source": [
    "# 사용자의 정보를 나타내는 클래스\n",
    "class UserProfile:\n",
    "    def __init__(self, name, email):\n",
    "        self.name = name\n",
    "        self.email = email\n",
    "\n",
    "# 데이터를 처리하는 클래스\n",
    "class DataProcessor:\n",
    "    def __init__(self, data):\n",
    "        self.data = data\n",
    "\n",
    "    def process(self):\n",
    "        # 데이터 처리 로직\n",
    "        processed_data = self.data.upper() # 예시\n",
    "        return processed_data"
   ]
  },
  {
   "cell_type": "code",
   "execution_count": 16,
   "id": "83aaad90-7c29-4e5c-aaaf-f660b1adeafd",
   "metadata": {},
   "outputs": [
    {
     "name": "stdout",
     "output_type": "stream",
     "text": [
      "사용자 1의 이름: Hong, 이메일: Hong@naver.com\n",
      "사용자 2의 이름: Gil, 이메일: Gil@naver.com\n",
      "사용자 1의 이름: Dong, 이메일: Dong@naver.com\n"
     ]
    }
   ],
   "source": [
    "# 1. UserProfile 클래스로부터 객체 (인스턴스) 생성\n",
    "user1 = UserProfile(\"Hong\", \"Hong@naver.com\")\n",
    "user2 = UserProfile(\"Gil\", \"Gil@naver.com\")\n",
    "\n",
    "# 2. 생성된 객체의 속성 (name, email)에 접근하여 사용\n",
    "print(f\"사용자 1의 이름: {user1.name}, 이메일: {user1.email}\")\n",
    "print(f\"사용자 2의 이름: {user2.name}, 이메일: {user2.email}\")\n",
    "\n",
    "# 속성 값 변경\n",
    "user1.name, user1.email = \"Dong\", \"Dong@naver.com\"\n",
    "print(f\"사용자 1의 이름: {user1.name}, 이메일: {user1.email}\")"
   ]
  },
  {
   "cell_type": "markdown",
   "id": "136cfeea-1821-4cc1-9ab7-0650acbc796f",
   "metadata": {},
   "source": [
    "## 08. 파이썬 내장 함수\n",
    "\n",
    "| 함수                      | 설명                                                                 | 예시 코드                                   | 결과 (예상)                     |\n",
    "| :------------------------ | :------------------------------------------------------------------- | :------------------------------------------ | :------------------------------ |\n",
    "| `print(*objects, sep=' ', end='\\n')` | 화면에 값을 출력합니다. 여러 값을 콤마로 구분하여 출력 가능하며, `sep`으로 구분자, `end`로 끝 문자를 지정할 수 있습니다. | `print(\"안녕\", \"파이썬\", sep=', ')`        | `안녕, 파이썬`                  |\n",
    "|                           |                                                                      | `print(\"끝!\")`                              | `끝!`                           |\n",
    "| `input([prompt])`         | 사용자로부터 입력을 받습니다. 입력은 항상 **문자열**로 반환됩니다. `prompt`는 안내 메시지입니다. | `name = input(\"이름: \")`<br>`print(name)` | (사용자 입력: \"홍길동\")<br>`홍길동` |\n",
    "| `len(s)`                  | 문자열, 리스트, 튜플, 사전 등 컬렉션의 **요소(항목) 개수**를 반환합니다. | `my_list = [1, 2, 3, 4]`<br>`print(len(my_list))` | `4`                             |\n",
    "|                           |                                                                      | `my_string = \"hello\"`<br>`print(len(my_string))` | `5`                             |\n",
    "| `type(object)`            | 주어진 객체의 **자료형**을 반환합니다.                               | `num = 10`<br>`print(type(num))`            | `<class 'int'>`                 |\n",
    "|                           |                                                                      | `text = \"world\"`<br>`print(type(text))`     | `<class 'str'>`                 |\n",
    "| `int(x)`                  | 값을 **정수(int)**로 변환합니다.                                     | `print(int(\"123\"))`                         | `123`                           |\n",
    "|                           |                                                                      | `print(int(3.7))`                           | `3`                             |\n",
    "| `float(x)`                | 값을 **실수(float)**로 변환합니다.                                   | `print(float(10))`                          | `10.0`                          |\n",
    "|                           |                                                                      | `print(float(\"3.14\"))`                      | `3.14`                          |\n",
    "| `str(object)`             | 값을 **문자열(str)**로 변환합니다.                                   | `print(str(123))`                           | `'123'`                         |\n",
    "|                           |                                                                      | `print(str([1, 2]))`                        | `'[1, 2]'`                      |\n",
    "| `bool(x)`                 | 값을 **불리언(bool - True/False)**으로 변환합니다. `0`, `None`, 빈 컬렉션 등은 `False`로 변환됩니다. | `print(bool(0))`                            | `False`                         |\n",
    "|                           |                                                                      | `print(bool(\"abc\"))`                        | `True`                          |\n",
    "| `sum(iterable, start=0)`  | 반복 가능한 객체(리스트, 튜플 등)의 모든 **요소의 합**을 계산합니다. `start` 값을 더할 수 있습니다. | `numbers = [1, 2, 3]`<br>`print(sum(numbers))` | `6`                             |\n",
    "| `max(iterable)`<br>`max(arg1, arg2, ...)` | 반복 가능한 객체 또는 여러 인자 중에서 **가장 큰 값**을 반환합니다. | `print(max([10, 5, 20]))`                   | `20`                            |\n",
    "| `min(iterable)`<br>`min(arg1, arg2, ...)` | 반복 가능한 객체 또는 여러 인자 중에서 **가장 작은 값**을 반환합니다. | `print(min([10, 5, 20]))`                   | `5`                             |\n",
    "| `abs(x)`                  | 주어진 숫자의 **절대값**을 반환합니다.                               | `print(abs(-7))`                            | `7`                             |\n",
    "| `range(stop)`<br>`range(start, stop[, step])` | 지정된 범위의 정수 시퀀스를 나타내는 **range 객체**를 생성합니다. `for` 반복문과 함께 자주 사용됩니다. | `for i in range(3):`<br>`  print(i)`      | `0`<br>`1`<br>`2`               |\n",
    "| `list(iterable)`          | 다른 반복 가능한 객체를 **리스트**로 변환합니다.                     | `print(list(\"abc\"))`                        | `['a', 'b', 'c']`               |\n",
    "| `tuple(iterable)`         | 다른 반복 가능한 객체를 **튜플**로 변환합니다.                       | `print(tuple([1, 2, 3]))`                   | `(1, 2, 3)`                     |\n",
    "| `set(iterable)`           | 다른 반복 가능한 객체를 **집합**으로 변환합니다. 중복된 요소는 제거됩니다. | `print(set([1, 2, 2, 3]))`                  | `{1, 2, 3}` (순서 무관)         |\n",
    "| `dict()`<br>`dict(iterable)` | 빈 **사전**을 만들거나 (키, 값) 쌍의 시퀀스로부터 사전을 만듭니다.   | `print(dict([('a', 1), ('b', 2)]))`         | `{'a': 1, 'b': 2}`              |"
   ]
  },
  {
   "cell_type": "code",
   "execution_count": 7,
   "id": "f989b417-716d-4888-8313-f67fd8337cdf",
   "metadata": {},
   "outputs": [
    {
     "name": "stdout",
     "output_type": "stream",
     "text": [
      "print 함수 입니다.\n",
      "- - - - - - - - - - - - - - - - - - - - - - - - - - - - - - - - - - - - - - - - \n",
      "print 함수 입니다.print 함수 입니다.\n",
      "print 함수 입니다.\n",
      "- - - - - - - - - - - - - - - - - - - - - - - - - - - - - - - - - - - - - - - - \n"
     ]
    }
   ],
   "source": [
    "# print 함수\n",
    "print(\"print 함수 입니다.\")\n",
    "print(\"- - - - - - - - - - - - - - - - - - - - - - - - - - - - - - - - - - - - - - - - \")\n",
    "print(\"print 함수 입니다.\", end='')\n",
    "print(\"print 함수 입니다.\")\n",
    "print(\"print 함수 입니다.\", end='')\n",
    "print(\"\") #끝이 기본적으로 개행 문자가 입력되게 되있어서 end='' 시 개행문자가 생략되어 줄바꿈이 안됨.\n",
    "print(\"- - - - - - - - - - - - - - - - - - - - - - - - - - - - - - - - - - - - - - - - \")"
   ]
  },
  {
   "cell_type": "code",
   "execution_count": 13,
   "id": "58d56fe5-b1d2-4452-af94-49dbf25eb7e4",
   "metadata": {},
   "outputs": [
    {
     "name": "stdin",
     "output_type": "stream",
     "text": [
      "숫자를 입력하세요. : 1\n"
     ]
    },
    {
     "name": "stdout",
     "output_type": "stream",
     "text": [
      "input 함수의 기본 타입 <class 'str'>\n",
      "int 함수의 타입 변경 <class 'int'>\n",
      "float 함수의 타입 변경 <class 'float'>\n",
      "str 함수의 타입 변경 <class 'str'>\n"
     ]
    }
   ],
   "source": [
    "# input 함수\n",
    "Exdata = input(\"숫자를 입력하세요. :\")\n",
    "\n",
    "# 각 변수에 저장한 값의 type 변경 함수\n",
    "Aint = int(Exdata)\n",
    "Aflt = float(Exdata)\n",
    "Astr = str(Exdata)\n",
    "\n",
    "# type(object): 객체의 자료형 반환 함수\n",
    "print(\"input 함수의 기본 타입\", type(Exdata))\n",
    "print(\"int 함수의 타입 변경\", type(Aint))\n",
    "print(\"float 함수의 타입 변경\", type(Aflt))\n",
    "print(\"str 함수의 타입 변경\", type(Astr))"
   ]
  },
  {
   "cell_type": "code",
   "execution_count": 17,
   "id": "02d02a9a-38e7-4262-b3da-49aab0fb58f0",
   "metadata": {},
   "outputs": [
    {
     "name": "stdout",
     "output_type": "stream",
     "text": [
      "True\n",
      "False\n",
      "False\n"
     ]
    }
   ],
   "source": [
    "# bool 함수\n",
    "Exbool_True = 1\n",
    "Exbool_False = 0\n",
    "Exbool_None = None #0, \"\", None 값 False로 반환 됨.\n",
    "\n",
    "print(bool(Exbool_True))\n",
    "print(bool(Exbool_False))\n",
    "print(bool(Exbool_None))"
   ]
  },
  {
   "cell_type": "code",
   "execution_count": 32,
   "id": "fa8556b1-e013-464e-a30d-8e997512d9c6",
   "metadata": {},
   "outputs": [
    {
     "name": "stdout",
     "output_type": "stream",
     "text": [
      "[1]\n",
      "[1, 2]\n",
      "[1, 2, 3]\n",
      "[1, 2, 3, 4]\n",
      "[1, 2, 3, 4, 5]\n",
      "[1, 2, 3, 4, 5, 6]\n",
      "[1, 2, 3, 4, 5, 6, 7]\n",
      "[1, 2, 3, 4, 5, 6, 7, 8]\n",
      "[1, 2, 3, 4, 5, 6, 7, 8, 9]\n",
      "[1, 2, 3, 4, 5, 6, 7, 8, 9, 10]\n",
      "[1, 2, 3, 4, 5, 6, 7, 8, 9, 10]\n",
      "<class 'list'>\n",
      "- - - - - - - - - - - - - - - - - - - - - - - - - - - - - - - - - - - - - - - - \n",
      "[1, 2, 3, 4, 5, 6, 7, 8, 9, 10]\n",
      "- - - - - - - - - - - - - - - - - - - - - - - - - - - - - - - - - - - - - - - - \n",
      "[2, 4, 6, 8, 10]\n",
      "- - - - - - - - - - - - - - - - - - - - - - - - - - - - - - - - - - - - - - - - \n",
      "[1, 3, 5, 7, 9]\n",
      "[2, 4, 6, 8, 10]\n"
     ]
    }
   ],
   "source": [
    "numlist = []\n",
    "\n",
    "# for 반복문\n",
    "for i in range(1, 11): # for i in rage(1, 11, 1) 1씩 증가\n",
    "    numlist.append(i)\n",
    "    print(numlist)\n",
    "\n",
    "print(numlist)\n",
    "print(type(numlist))\n",
    "\n",
    "print(\"- - - - - - - - - - - - - - - - - - - - - - - - - - - - - - - - - - - - - - - - \")\n",
    "numlist = [i for i in range(1, 11)]\n",
    "print(numlist)\n",
    "\n",
    "print(\"- - - - - - - - - - - - - - - - - - - - - - - - - - - - - - - - - - - - - - - - \")\n",
    "numlist = [i for i in range(1, 11) if i % 2 == 0]\n",
    "print(numlist)\n",
    "\n",
    "print(\"- - - - - - - - - - - - - - - - - - - - - - - - - - - - - - - - - - - - - - - - \")\n",
    "odd_numlist = [i for i in range(1, 11) if i & 1 == 1] #마지막 비트가 1인 경우 홀수\n",
    "even_numlist = [i for i in range(1, 11) if i % 2 == 0] #나머지 값이 0인 경우 짝수\n",
    "\n",
    "print(odd_numlist)\n",
    "print(even_numlist)"
   ]
  },
  {
   "cell_type": "code",
   "execution_count": 29,
   "id": "768a2700-3e24-49f6-b57c-a07cf15258cc",
   "metadata": {},
   "outputs": [
    {
     "name": "stdout",
     "output_type": "stream",
     "text": [
      "입력 값: 0\n",
      "이진수: 0\n",
      "0 & 0001 = 0  → 짝수\n",
      "--------------------\n",
      "입력 값: 1\n",
      "이진수: 1\n",
      "1 & 0001 = 1  → 홀수\n",
      "--------------------\n",
      "입력 값: 2\n",
      "이진수: 10\n",
      "10 & 0001 = 0  → 짝수\n",
      "--------------------\n",
      "입력 값: 3\n",
      "이진수: 11\n",
      "11 & 0001 = 1  → 홀수\n",
      "--------------------\n",
      "입력 값: 4\n",
      "이진수: 100\n",
      "100 & 0001 = 0  → 짝수\n",
      "--------------------\n",
      "입력 값: 5\n",
      "이진수: 101\n",
      "101 & 0001 = 1  → 홀수\n",
      "--------------------\n",
      "입력 값: 6\n",
      "이진수: 110\n",
      "110 & 0001 = 0  → 짝수\n",
      "--------------------\n",
      "입력 값: 7\n",
      "이진수: 111\n",
      "111 & 0001 = 1  → 홀수\n",
      "--------------------\n",
      "입력 값: 8\n",
      "이진수: 1000\n",
      "1000 & 0001 = 0  → 짝수\n",
      "--------------------\n",
      "입력 값: 9\n",
      "이진수: 1001\n",
      "1001 & 0001 = 1  → 홀수\n",
      "--------------------\n"
     ]
    }
   ],
   "source": [
    "def check_even_odd_bitwise(x):\n",
    "    binary = bin(x)[2:]  # 이진수 문자열 (접두사 '0b' 제거)\n",
    "    last_bit = x & 1     # 마지막 비트만 추출\n",
    "    kind = \"홀수\" if last_bit == 1 else \"짝수\"\n",
    "\n",
    "    print(f\"입력 값: {x}\")\n",
    "    print(f\"이진수: {binary}\")\n",
    "    print(f\"{binary} & 0001 = {bin(last_bit)[2:]}  → {kind}\")\n",
    "\n",
    "# 테스트\n",
    "for i in range(10):\n",
    "    check_even_odd_bitwise(i)\n",
    "    print(\"-\" * 20)"
   ]
  },
  {
   "cell_type": "code",
   "execution_count": null,
   "id": "313a4d9c-5353-419e-848a-c233e5c94186",
   "metadata": {},
   "outputs": [],
   "source": []
  }
 ],
 "metadata": {
  "kernelspec": {
   "display_name": "Python 3 (ipykernel)",
   "language": "python",
   "name": "python3"
  },
  "language_info": {
   "codemirror_mode": {
    "name": "ipython",
    "version": 3
   },
   "file_extension": ".py",
   "mimetype": "text/x-python",
   "name": "python",
   "nbconvert_exporter": "python",
   "pygments_lexer": "ipython3",
   "version": "3.13.3"
  }
 },
 "nbformat": 4,
 "nbformat_minor": 5
}
