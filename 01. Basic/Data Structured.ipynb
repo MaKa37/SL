{
 "cells": [
  {
   "cell_type": "markdown",
   "id": "7541c396-8ced-4782-8fee-eccb203a9060",
   "metadata": {},
   "source": [
    "# 자료 구조(Data Structured)"
   ]
  },
  {
   "cell_type": "markdown",
   "id": "0a149cf5-0d84-4ea1-bb77-4a829a7085a3",
   "metadata": {},
   "source": [
    "## 00. 자료 구조 이해\n",
    "- **[] 과 {} 의 차이**\n",
    "\n",
    "|      특징      |     `[]` 리스트 (List)     |     `{}` 사전 (Dictionary)    |      `{}` 세트 (Set)      |\n",
    "|:--------------:|:--------------------------:|:-----------------------------:|:------------------------:|\n",
    "|     **용도** |    순서 있는 항목 모음     |    키-값 쌍의 항목 모음     |   중복 없는 고유 항목 모음  |\n",
    "|     **순서** |   있음 (인덱스 사용)       | Python 3.7+부터는 삽입 순서 유지 (키 사용) |           없음           |\n",
    "|   **접근 방식**| 인덱스 (`[0]`, `[1]`, ...) |  키 (`[\"name\"]`, `[\"age\"]`) |    인덱스/키 접근 불가     |\n",
    "| **변경 가능** |     가능 (Mutable)         |      가능 (Mutable)         |     가능 (Mutable)       |\n",
    "| **중복 허용** |         허용               |   값은 허용, 키는 불가능      |        불가능            |"
   ]
  },
  {
   "cell_type": "markdown",
   "id": "3962721a-f131-47a8-8f36-77e8567164d5",
   "metadata": {},
   "source": [
    "## 01. 리스트(List)"
   ]
  },
  {
   "cell_type": "code",
   "execution_count": 5,
   "id": "73d6fb0a-3fc3-4be2-bd69-fd12e9f186cf",
   "metadata": {},
   "outputs": [
    {
     "name": "stdout",
     "output_type": "stream",
     "text": [
      "Drawing circle on canvas\n",
      "Drawing rectangle on canvas\n",
      "Drawing line on canvas\n"
     ]
    }
   ],
   "source": [
    "# 1. 리스트 (List)\n",
    "# 개념: 순서가 있는 변경 가능한 객체들의 집합. 그래픽 요소들을 순차적으로 저장할 때 사용.\n",
    "# 예시: 여러 도형 객체를 저장하고 순차적으로 렌더링\n",
    "\n",
    "shapes = [\"circle\", \"rectangle\", \"line\"]\n",
    "for shape in shapes:\n",
    "    print(f\"Drawing {shape} on canvas\")"
   ]
  },
  {
   "cell_type": "markdown",
   "id": "25620040-e04a-4e1e-9a4c-97cac58da009",
   "metadata": {},
   "source": [
    "## 02. 딕셔너리(Dictionary)"
   ]
  },
  {
   "cell_type": "code",
   "execution_count": 6,
   "id": "2ade00d8-8737-4676-943b-9bf082ce69e0",
   "metadata": {},
   "outputs": [
    {
     "name": "stdout",
     "output_type": "stream",
     "text": [
      "Drawing a red circle at (100, 150)\n"
     ]
    }
   ],
   "source": [
    "# 2. 딕셔너리 (Dictionary)\n",
    "# 개념: 키와 값의 쌍으로 데이터를 저장. 각 도형의 속성을 저장할 때 유용.\n",
    "# 예시: 도형마다 속성값을 저장 (좌표, 색상 등)\n",
    "\n",
    "circle = {\n",
    "    \"type\": \"circle\",\n",
    "    \"position\": (100, 150),\n",
    "    \"radius\": 50,\n",
    "    \"color\": \"red\"\n",
    "}\n",
    "print(f\"Drawing a {circle['color']} {circle['type']} at {circle['position']}\")"
   ]
  },
  {
   "cell_type": "markdown",
   "id": "27f4752a-aa3f-488c-b0a6-df22ce41a80b",
   "metadata": {},
   "source": [
    "## 03. 튜플(Tuple)"
   ]
  },
  {
   "cell_type": "code",
   "execution_count": 7,
   "id": "5003e8fc-c2af-44da-a101-b6077dd6f571",
   "metadata": {},
   "outputs": [
    {
     "name": "stdout",
     "output_type": "stream",
     "text": [
      "Position: (200, 300), Size: (100, 150)\n"
     ]
    }
   ],
   "source": [
    "# 3. 튜플 (Tuple)\n",
    "# 개념: 변경 불가능한 순서형 자료. 좌표나 크기처럼 불변 데이터에 사용.\n",
    "# 예시: 도형의 위치나 크기 지정\n",
    "\n",
    "position = (200, 300)\n",
    "size = (100, 150)\n",
    "print(f\"Position: {position}, Size: {size}\")"
   ]
  },
  {
   "cell_type": "markdown",
   "id": "a09d2571-a1e1-43ae-8b8d-31bfa9cea019",
   "metadata": {},
   "source": [
    "## 04. 집합 (Set)"
   ]
  },
  {
   "cell_type": "code",
   "execution_count": 9,
   "id": "f07de2a0-45ca-460a-affc-c4b5eaaf526a",
   "metadata": {},
   "outputs": [
    {
     "name": "stdout",
     "output_type": "stream",
     "text": [
      "Unique colors: {'green', 'red', 'blue'}\n"
     ]
    }
   ],
   "source": [
    "# 4. 집합 (Set)\n",
    "# 개념: 중복되지 않는 항목들의 모음. 중복된 객체를 걸러낼 때 사용.\n",
    "# 예시: 고유한 색상들 수집\n",
    "\n",
    "colors_used = {\"red\", \"blue\", \"green\", \"red\"}\n",
    "print(f\"Unique colors: {colors_used}\")"
   ]
  },
  {
   "cell_type": "markdown",
   "id": "416b6862-2886-4f95-a236-16933fed153d",
   "metadata": {},
   "source": [
    "## 05. 스택(Stack)"
   ]
  },
  {
   "cell_type": "code",
   "execution_count": 8,
   "id": "9b526ede-c847-4169-bcd0-39ba1f1508d0",
   "metadata": {},
   "outputs": [
    {
     "name": "stdout",
     "output_type": "stream",
     "text": [
      "Undo: draw rectangle\n"
     ]
    }
   ],
   "source": [
    "# 5. 스택 (Stack)\n",
    "# 개념: 후입선출(LIFO) 구조. 실행 취소(undo) 기능 구현에 사용.\n",
    "# 예시: 작업 이력을 저장하고 되돌리기\n",
    "\n",
    "undo_stack = []\n",
    "undo_stack.append(\"draw circle\")\n",
    "undo_stack.append(\"draw rectangle\")\n",
    "last_action = undo_stack.pop()\n",
    "print(f\"Undo: {last_action}\")"
   ]
  },
  {
   "cell_type": "markdown",
   "id": "9cac74c9-2296-46f8-a7f3-fb06219f1820",
   "metadata": {},
   "source": [
    "## 06. 큐(Queue)"
   ]
  },
  {
   "cell_type": "code",
   "execution_count": 15,
   "id": "812ba27d-8d6b-4a67-ae67-43c8f6609afe",
   "metadata": {},
   "outputs": [
    {
     "name": "stdout",
     "output_type": "stream",
     "text": [
      "Processing event: click\n"
     ]
    }
   ],
   "source": [
    "# 6. 큐 (Queue)\n",
    "# 개념: 선입선출(FIFO) 구조. 이벤트 처리나 작업 예약 등에 사용.\n",
    "# 예시: 사용자 입력 이벤트 처리\n",
    "\n",
    "from collections import deque\n",
    "event_queue = deque()\n",
    "event_queue.append(\"click\")\n",
    "event_queue.append(\"drag\")\n",
    "next_event = event_queue.popleft()\n",
    "print(f\"Processing event: {next_event}\")"
   ]
  },
  {
   "cell_type": "markdown",
   "id": "6f86b7e1-e488-46a3-ae6d-54f620344c79",
   "metadata": {},
   "source": [
    "## 07. 그래프(Graph)"
   ]
  },
  {
   "cell_type": "code",
   "execution_count": 19,
   "id": "13846702-28a0-4604-9d93-6507267499bd",
   "metadata": {},
   "outputs": [
    {
     "name": "stdout",
     "output_type": "stream",
     "text": [
      "Group1 contains: ['circle1', 'rectangle1']\n",
      "Group1 contains: circle1\n",
      "Group1 contains: rectangle1\n"
     ]
    }
   ],
   "source": [
    "# 7. 그래프 (Graph)\n",
    "# 개념: 정점과 간선의 구조. 도형 간 연결 관계 표현에 사용.\n",
    "# 예시: 도형 간 참조 구조 (예: 그룹화된 도형)\n",
    "\n",
    "graph = {\n",
    "    \"group1\": [\"circle1\", \"rectangle1\"],\n",
    "    \"group2\": [\"line1\", \"circle2\"]\n",
    "}\n",
    "print(f\"Group1 contains: {graph['group1']}\")\n",
    "print(f\"Group1 contains: {graph['group1'][0]}\")\n",
    "print(f\"Group1 contains: {graph['group1'][1]}\")"
   ]
  },
  {
   "cell_type": "markdown",
   "id": "df6a6865-72ad-43d1-a6f6-871b389c449c",
   "metadata": {},
   "source": [
    "## 08. 트리(Tree)"
   ]
  },
  {
   "cell_type": "code",
   "execution_count": 17,
   "id": "340ad4b5-d6a8-47a8-ab03-214d7f15dd6f",
   "metadata": {},
   "outputs": [
    {
     "name": "stdout",
     "output_type": "stream",
     "text": [
      "Scene graph root children: dict_keys(['child1', 'child2'])\n"
     ]
    }
   ],
   "source": [
    "# 8. 트리 (Tree)\n",
    "# 개념: 계층적 구조 표현. UI 계층 구조나 도형 그룹 구조 등에 사용.\n",
    "# 예시: 장면(Scene) 그래프 구성\n",
    "\n",
    "scene = {\n",
    "    \"root\": {\n",
    "        \"child1\": {\n",
    "            \"child1.1\": {},\n",
    "            \"child1.2\": {}\n",
    "        },\n",
    "        \"child2\": {}\n",
    "    }\n",
    "}\n",
    "print(f\"Scene graph root children: {scene['root'].keys()}\")"
   ]
  },
  {
   "cell_type": "code",
   "execution_count": null,
   "id": "d90007ff-4ff0-4c23-b641-8d495debb395",
   "metadata": {},
   "outputs": [],
   "source": []
  }
 ],
 "metadata": {
  "kernelspec": {
   "display_name": "Python 3 (ipykernel)",
   "language": "python",
   "name": "python3"
  },
  "language_info": {
   "codemirror_mode": {
    "name": "ipython",
    "version": 3
   },
   "file_extension": ".py",
   "mimetype": "text/x-python",
   "name": "python",
   "nbconvert_exporter": "python",
   "pygments_lexer": "ipython3",
   "version": "3.13.3"
  }
 },
 "nbformat": 4,
 "nbformat_minor": 5
}
