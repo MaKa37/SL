{
 "cells": [
  {
   "cell_type": "markdown",
   "id": "7392ba66-99b4-47d1-bcfc-61e9b28c4e3c",
   "metadata": {},
   "source": [
    "# 파이썬 기초 문법 공부(Python Basic Syntax Learning)"
   ]
  },
  {
   "cell_type": "markdown",
   "id": "123312b8-ae42-4809-a947-6c643cc3126c",
   "metadata": {},
   "source": [
    "## 01. 숫자(Numbers)와 문자열(String)"
   ]
  },
  {
   "cell_type": "code",
   "execution_count": 19,
   "id": "25a855ea-87e0-4243-bf06-6a545ecbee7a",
   "metadata": {},
   "outputs": [
    {
     "name": "stdout",
     "output_type": "stream",
     "text": [
      "10 -3 0\n"
     ]
    }
   ],
   "source": [
    "# 정수(integer): 소수점이 없는 숫자\n",
    "# a, b, c에 변수인 정수(integer) 값 저장\n",
    "a = 10\n",
    "b = -3\n",
    "c = 0\n",
    "\n",
    "print(a, b, c) #출력"
   ]
  },
  {
   "cell_type": "code",
   "execution_count": 20,
   "id": "8c516f1b-3141-41e6-b45d-82b2ba1a6cb7",
   "metadata": {},
   "outputs": [
    {
     "name": "stdout",
     "output_type": "stream",
     "text": [
      "3.14 -0.5 2.0\n"
     ]
    }
   ],
   "source": [
    "# 실수(Floating-point number): 소수점이 있는 숫자\n",
    "# pi, negative_float, float_num에 변수인 실수(Floating-point number) 값 저장\n",
    "\n",
    "pi = 3.14\n",
    "negative_float = -0.5\n",
    "float_num = 2.0\n",
    "\n",
    "print(pi, negative_float, float_num) #출력"
   ]
  },
  {
   "cell_type": "code",
   "execution_count": 21,
   "id": "ff21994a-5a78-478a-8867-a6c3e01735ae",
   "metadata": {},
   "outputs": [
    {
     "name": "stdout",
     "output_type": "stream",
     "text": [
      "홍길동\n",
      "\n",
      "안녕하세요!\n"
     ]
    }
   ],
   "source": [
    "# 문자열(Strings)\n",
    "\n",
    "name = \"홍길동\"\n",
    "greeting = '안녕하세요!'\n",
    "empty_string = \"\" # 빈 문자열\n",
    "\n",
    "print(name)\n",
    "print(empty_string)\n",
    "print(greeting)"
   ]
  },
  {
   "cell_type": "code",
   "execution_count": 22,
   "id": "4efdc1fc-7264-46aa-a4b4-b942c5753151",
   "metadata": {},
   "outputs": [
    {
     "name": "stdout",
     "output_type": "stream",
     "text": [
      "그는 '안녕하세요'라고 말했습니다.\n",
      "그는 \"안녕하세요\"라고 말했습니다.\n",
      "그는 '안녕하세요'라고 말했습니다.\n"
     ]
    }
   ],
   "source": [
    "# 따옴표 사용 주의: 문자열 안에 따옴표를 넣고 싶을 때는\n",
    "# 바깥쪽 따옴표와 다른 종류를 사용하거나, 이스케이프 문자(\\)를 사용합니다.\n",
    "sentence1 = \"그는 '안녕하세요'라고 말했습니다.\"\n",
    "sentence2 = '그는 \"안녕하세요\"라고 말했습니다.'\n",
    "sentence3 = '그는 \\'안녕하세요\\'라고 말했습니다.' # 이스케이프 문자 사용\n",
    "\n",
    "print(sentence1)\n",
    "print(sentence2)\n",
    "print(sentence3)"
   ]
  },
  {
   "cell_type": "code",
   "execution_count": 23,
   "id": "b952728a-b759-425c-9746-d8b04582bae9",
   "metadata": {},
   "outputs": [
    {
     "name": "stdout",
     "output_type": "stream",
     "text": [
      "\n",
      "여러 줄에 걸친\n",
      "문자열입니다.\n",
      "줄바꿈도 그대로 유지됩니다.\n",
      "\n",
      "여러 줄에 걸친\n",
      "문자열입니다.\n",
      "줄바꿈도 그대로 유지됩니다.\n"
     ]
    }
   ],
   "source": [
    "# 줄 바꿈하여 입력하였기에 위 아래로 \\n 개행(줄 바꿈) 처리됨.\n",
    "multi_line_string = \"\"\"\n",
    "여러 줄에 걸친\n",
    "문자열입니다.\n",
    "줄바꿈도 그대로 유지됩니다.\n",
    "\"\"\"\n",
    "\n",
    "print(multi_line_string)\n",
    "\n",
    "multi_line_string2 = \"\"\"여러 줄에 걸친\n",
    "문자열입니다.\n",
    "줄바꿈도 그대로 유지됩니다.\"\"\"\n",
    "\n",
    "print(multi_line_string2)"
   ]
  },
  {
   "cell_type": "markdown",
   "id": "b1d1f3a1-ac4e-41de-b3d3-70271b21cc35",
   "metadata": {},
   "source": [
    "## 02. 기본 연산자(Basic Operators)\n",
    "\n",
    "연산자는 숫자나 문자열을 가지고 계산을 하거나 어떤 작업을 수행하도록 하는 기호입니다.\n",
    "\n",
    "* 산술 연산자 (Arithmetic Operators): 숫자 계산에 사용됩니다.\n",
    "\n",
    "\n",
    "| 연산자 | 설명         | 예시 (a=10, b=3) | 결과 |\n",
    "| :----- | :----------- | :--------------- | :--- |\n",
    "| +    | 덧셈         | a + b          | 13 |\n",
    "| -    | 뺄셈         | a - b          | 7  |\n",
    "| *    | 곱셈         | a * b          | 30 |\n",
    "| /    | 나눗셈       | a / b          | 3.333... (결과는 항상 실수) |\n",
    "| //   | 몫           | a // b         | 3  |\n",
    "| %    | 나머지       | a % b          | 1  |\n",
    "| **   | 거듭제곱     | a ** b         | 1000 (10의 3제곱) |"
   ]
  },
  {
   "cell_type": "code",
   "execution_count": 25,
   "id": "26682c8f-3cbf-4066-937a-5deee3a6725e",
   "metadata": {},
   "outputs": [
    {
     "name": "stdout",
     "output_type": "stream",
     "text": [
      "a + b = 13\n",
      "a - b = 7\n",
      "a * b = 30\n",
      "a / b = 3.3333333333333335\n",
      "a // b = 3\n",
      "a % b = 1\n",
      "a ** b = 1000\n"
     ]
    }
   ],
   "source": [
    "# 기본 연산자 (Basic Operators)\n",
    "a = 10\n",
    "b = 3\n",
    "print(\"a + b =\", a + b)\n",
    "print(\"a - b =\", a - b)\n",
    "print(\"a * b =\", a * b)\n",
    "print(\"a / b =\", a / b)\n",
    "print(\"a // b =\", a // b)\n",
    "print(\"a % b =\", a % b)\n",
    "print(\"a ** b =\", a ** b)"
   ]
  },
  {
   "cell_type": "markdown",
   "id": "cf322146-9621-4c16-9992-669663dc494f",
   "metadata": {},
   "source": [
    "* 문자열 연산자 (String Operators):\n",
    "    * (연결, Concatenation): 두 문자열을 이어 붙입니다."
   ]
  },
  {
   "cell_type": "code",
   "execution_count": 26,
   "id": "1202567d-69fb-4b2c-bb56-6c168c2cd4ca",
   "metadata": {},
   "outputs": [
    {
     "name": "stdout",
     "output_type": "stream",
     "text": [
      "파이썬 마스터\n"
     ]
    }
   ],
   "source": [
    "first_name = \"파이썬\"\n",
    "last_name = \"마스터\"\n",
    "full_name = first_name + \" \" + last_name # 중간에 공백 추가\n",
    "print(full_name) # 결과: 파이썬 마스터"
   ]
  },
  {
   "cell_type": "markdown",
   "id": "c2a369fe-aa91-4d2d-8e43-3655da03d4de",
   "metadata": {},
   "source": [
    "* (반복, Repetition): 문자열을 여러 번 반복합니다.\n",
    "\n",
    "주의: 문자열과 숫자를 + 연산자로 직접 더하려고 하면 오류가 발생합니다.  \n",
    "숫자를 문자열로 변환해야 합니다 (예: str(숫자))."
   ]
  },
  {
   "cell_type": "code",
   "execution_count": 27,
   "id": "70935a4f-7b50-4d5b-b6af-2fe0031d0664",
   "metadata": {},
   "outputs": [
    {
     "name": "stdout",
     "output_type": "stream",
     "text": [
      "하하하하하\n"
     ]
    }
   ],
   "source": [
    "laugh = \"하\"\n",
    "lots_of_laughs = laugh * 5\n",
    "print(lots_of_laughs) # 결과: 하하하하하"
   ]
  },
  {
   "cell_type": "markdown",
   "id": "e3df28fc-fe31-4b26-a378-0fa5d77be867",
   "metadata": {},
   "source": [
    "* 할당 연산자 (Assignment Operators): 변수에 값을 할당(저장)할 때 사용합니다.\n",
    "\n",
    "    * =: 오른쪽의 값을 왼쪽 변수에 할당합니다. (예: x = 5)\n",
    "    * 복합 할당 연산자: 산술 연산과 할당을 동시에 수행합니다.\n",
    "        * += (예: x += 2는 x = x + 2와 같습니다)\n",
    "        * -= (예: x -= 2는 x = x - 2와 같습니다)\n",
    "        * *= (예: x *= 2는 x = x * 2와 같습니다)\n",
    "        * /= (예: x /= 2는 x = x / 2와 같습니다)"
   ]
  },
  {
   "cell_type": "code",
   "execution_count": 28,
   "id": "45300518-1ea5-4358-a4e1-a5f23a9a6485",
   "metadata": {},
   "outputs": [
    {
     "name": "stdout",
     "output_type": "stream",
     "text": [
      "카운트: 1\n",
      "총합: 90\n"
     ]
    }
   ],
   "source": [
    "count = 0\n",
    "count += 1 # count = count + 1\n",
    "print(\"카운트:\", count) # 결과: 카운트: 1\n",
    "\n",
    "total = 100\n",
    "total -= 10 # total = total - 10\n",
    "print(\"총합:\", total) # 결과: 총합: 90"
   ]
  },
  {
   "cell_type": "markdown",
   "id": "a66b3527-c1db-4f78-84cd-6b3b6308a31e",
   "metadata": {},
   "source": [
    "## 03. 표현식 (Expressions)\n",
    "\n",
    "표현식은 값(value), 변수(variable), 연산자(operator), 함수 호출(function call) 등이 조합되어 **하나의 값으로 평가될 수 있는 코드 조각**을 의미합니다.\n",
    "\n",
    "* 10 + 5는 15라는 값으로 평가되는 표현식입니다.\n",
    "* name = \"홍길동\"에서 \"홍길동\"은 문자열 값이며, name은 변수입니다. name 자체도 하나의 값(이 경우 \"홍길동\")을 나타내는 표현식이 될 수 있습니다.\n",
    "* a * b - c 와 같이 여러 연산자가 포함된 것도 표현식입니다.\n",
    "  \n",
    "파이썬은 표현식을 계산하여 결과를 만들어냅니다. print() 함수 안에 들어가는 것들은 대부분 표현식이라고 생각할 수 있습니다."
   ]
  },
  {
   "cell_type": "code",
   "execution_count": 29,
   "id": "728552f1-a316-465b-93de-e25ec7409730",
   "metadata": {},
   "outputs": [
    {
     "name": "stdout",
     "output_type": "stream",
     "text": [
      "30\n",
      "나이: 30\n"
     ]
    }
   ],
   "source": [
    "# 표현식 예시\n",
    "x = 5\n",
    "y = 10\n",
    "z = (x + y) * 2  # (x + y)도 표현식, (x + y) * 2도 표현식\n",
    "print(z)         # z는 30으로 평가됩니다.\n",
    "\n",
    "message = \"나이: \" + str(30) # str(30)은 숫자 30을 문자열 \"30\"으로 변환하는 표현식\n",
    "                           # 전체는 \"나이: 30\"이라는 문자열로 평가됩니다.\n",
    "print(message)"
   ]
  },
  {
   "cell_type": "markdown",
   "id": "270e83ef-2646-4be0-83f6-2735deb2ffed",
   "metadata": {},
   "source": [
    "* 숫자: 정수(예: 5, -10)와 실수(예: 3.14, 2.7)가 있습니다.\n",
    "* 문자열: 글자들의 나열로, 따옴표(' 또는 \")로 감싸서 만듭니다. (예: \"안녕하세요\", 'Python')\n",
    "* 기본 연산자:\n",
    "    * 산술 연산자: +, -, *, /, //, %, **\n",
    "    * 문자열 연산자: + (연결), * (반복)\n",
    "    * 할당 연산자: =, +=, -=, 등\n",
    "* 표현식: 값, 변수, 연산자 등을 조합하여 하나의 값으로 계산되는 코드입니다."
   ]
  },
  {
   "cell_type": "markdown",
   "id": "f0a6fc27-4e7c-4002-b3cb-c5f9cd37ce97",
   "metadata": {},
   "source": [
    "## 04. 함수(function)\n",
    "\n",
    "함수는 특정 작업을 반복적으로 수행하는 코드의 집합으로 이름을 붙여서 필요할 때마다 사용할 수 있도록 만든 것으로 다음과 같은 장점이 있습니다.\n",
    "\n",
    "* 재사용성: 똑같은 코드를 여러 번 작성할 필요 없이 함수 호출 한 번으로 해결할 수 있습니다.\n",
    "* 가독성: 코드가 기능별로 잘 정리되어 이해하기 쉬워집니다.\n",
    "* 모듈화: 프로그램을 여러 개의 작은 함수 단위로 나누어 만들 수 있어서 복잡한 프로그램도 체계적으로 관리할 수 있습니다.\n",
    "\n",
    "**함수 정의하기(Defining a Function):**\n",
    "\n",
    "파이썬에서 함수는 def 키워드를 사용하여 정의합니다.  \n",
    "기본적인 구조는 다음과 같아요.\n",
    "\n",
    "```python\n",
    "# 함수 이름과 괄호 안에는 매개변수(옵션)를 넣습니다.\n",
    "# 콜론(:)으로 끝납니다.\n",
    "\n",
    "def 함수이름(매개변수1, 매개변수2, ...):\n",
    "    # 이 부분은 함수의 몸통(body)입니다.\n",
    "    # 반드시 들여쓰기를 해야 합니다!\n",
    "    수행할_문장1\n",
    "    수행할_문장2\n",
    "    \n",
    "    # 함수가 실행된 후 결과를 돌려줄 필요가 있을 때 사용 (옵션)\n",
    "    return 반환값\n",
    "```\n",
    "\n",
    "* def: 함수를 정의하겠다는 키워드입니다.\n",
    "* 함수이름: 함수를 식별하는 이름입니다. 변수 이름 규칙과 비슷하게 만듭니다 (보통 소문자와 언더스코어(_)를 사용).\n",
    "* 매개변수 (Parameter): 함수가 작업을 수행하는 데 필요한 값을 전달받는 통로입니다. 괄호 () 안에 작성하며, 여러 개일 경우 쉼표(,)로 구분합니다. 필요 없다면 비워둘 수 있습니다.\n",
    "* : (콜론): 함수 정의부의 끝을 나타냅니다.\n",
    "* 들여쓴 코드 블록 (함수 몸통): 함수가 호출되었을 때 실행될 코드들입니다. 매우 중요하게도, 이 코드들은 반드시 들여쓰기를 해야 합니다. (들여쓰기에 대해서는 아래에서 더 자세히 설명할게요!)\n",
    "* return: 함수가 작업을 마친 후 호출한 곳으로 결과값을 돌려줄 때 사용합니다. return 문이 없거나 return만 있는 함수는 특별한 값인 None을 반환합니다."
   ]
  },
  {
   "cell_type": "markdown",
   "id": "cf07d6fa-5745-4e12-9cdc-3d93bde9a207",
   "metadata": {},
   "source": [
    "**함수 호출하기(Calling a Function):**\n",
    "\n",
    "함수를 정의했다면, 이제 그 함수를 사용해야겠죠? 함수를 사용하는 것을 \"호출한다\"라고 합니다. 함수 이름 뒤에 괄호 ()를 붙여서 호출합니다. 만약 함수가 매개변수를 받는다면, 괄호 안에 필요한 값(인자, Argument)을 전달해야 합니다."
   ]
  },
  {
   "cell_type": "code",
   "execution_count": 30,
   "id": "afa9a05f-e616-4d2d-8543-bd7ba70f5370",
   "metadata": {},
   "outputs": [
    {
     "name": "stdout",
     "output_type": "stream",
     "text": [
      "안녕하세요!\n",
      "철수님, 안녕하세요!\n",
      "영희님, 안녕하세요!\n",
      "15\n",
      "300\n"
     ]
    }
   ],
   "source": [
    "# 간단한 함수 정의 예시\n",
    "def greet():  # 매개변수가 없는 함수\n",
    "    print(\"안녕하세요!\")\n",
    "\n",
    "def greet_by_name(name):  # 'name'이라는 매개변수 하나를 받는 함수\n",
    "    print(f\"{name}님, 안녕하세요!\") # f-string을 사용하면 문자열 안에 변수 값을 쉽게 넣을 수 있어요.\n",
    "\n",
    "def add(a, b):  # 두 개의 매개변수를 받아서 더한 결과를 반환하는 함수\n",
    "    result = a + b\n",
    "    return result\n",
    "\n",
    "# 함수 호출 예시\n",
    "greet()  # 출력: 안녕하세요!\n",
    "\n",
    "greet_by_name(\"철수\")  # 출력: 철수님, 안녕하세요!\n",
    "greet_by_name(\"영희\")  # 출력: 영희님, 안녕하세요!\n",
    "\n",
    "sum_result = add(10, 5)  # add 함수를 호출하고, 반환된 값을 sum_result 변수에 저장\n",
    "print(sum_result)        # 출력: 15\n",
    "\n",
    "another_sum = add(100, 200)\n",
    "print(another_sum)       # 출력: 300"
   ]
  },
  {
   "cell_type": "code",
   "execution_count": 34,
   "id": "34f6fefd-be2f-494e-9b0b-9994f2208d50",
   "metadata": {},
   "outputs": [
    {
     "name": "stdout",
     "output_type": "stream",
     "text": [
      "전달 받은 매개변수의 인자값은 공부하는, 인간 입니다.\n"
     ]
    }
   ],
   "source": [
    "def str_sum_str(astr, bstr):\n",
    "    print(f\"전달 받은 매개변수의 인자값은 {astr}, {bstr} 입니다.\")\n",
    "\n",
    "str_sum_str(\"공부하는\", \"인간\")"
   ]
  },
  {
   "cell_type": "markdown",
   "id": "34c3b7b2-6631-49e8-9e6a-eafb6cd7ffb2",
   "metadata": {},
   "source": [
    "### 매개변수(Parameters)와 인자(Arguments):\n",
    "\n",
    "* 매개변수(Parameter): 함수를 정의할 때 괄호 안에 선언하는 변수입니다. 함수 안에서 사용될 값을 받는 '자리 표시자'와 같습니다.\n",
    "* 인자(Argument): 함수를 호출할 때 괄호 안에 전달하는 실제 값입니다.\n",
    "\n",
    "위의 add(a, b) 함수에서 a와 b는 매개변수이고, add(10, 5)에서 10과 5는 인자입니다.\n",
    "\n",
    "**return 문의 역할:**\n",
    "\n",
    "return 문은 함수의 실행을 종료하고, 지정된 값을 함수를 호출한 곳으로 되돌려줍니다.  \n",
    "만약 함수가 어떤 결과를 계산하고 그 결과를 다른 곳에서 사용해야 한다면 return을 사용해야 합니다."
   ]
  },
  {
   "cell_type": "code",
   "execution_count": 33,
   "id": "1f7d9204-8645-44f3-bdb3-17c90acc9766",
   "metadata": {},
   "outputs": [
    {
     "name": "stdout",
     "output_type": "stream",
     "text": [
      "반지름이 5인 원의 넓이는 78.5 입니다.\n",
      "Hello\n",
      "print_message 함수의 반환값: None\n"
     ]
    }
   ],
   "source": [
    "def calculate_area(radius):\n",
    "    area = 3.14 * radius * radius\n",
    "    return area # 계산된 넓이 값을 반환\n",
    "\n",
    "circle_area = calculate_area(5) # radius에 5가 전달되고, 계산된 넓이가 circle_area에 저장됨\n",
    "print(f\"반지름이 5인 원의 넓이는 {circle_area} 입니다.\")\n",
    "\n",
    "# return이 없는 함수 (또는 return만 있는 함수)\n",
    "def print_message(message):\n",
    "    print(message) # 화면에 출력만 하고, 특별히 값을 반환하지 않음\n",
    "\n",
    "result_from_print = print_message(\"Hello\")\n",
    "print(f\"print_message 함수의 반환값: {result_from_print}\") # 출력: print_message 함수의 반환값: None = 값이 없음"
   ]
  },
  {
   "cell_type": "code",
   "execution_count": null,
   "id": "37d46dce-ed61-4172-8d93-e22bfcbf5963",
   "metadata": {},
   "outputs": [],
   "source": []
  },
  {
   "cell_type": "code",
   "execution_count": null,
   "id": "44c252dc-226d-4266-aff8-1c47bf8d37f7",
   "metadata": {},
   "outputs": [],
   "source": []
  },
  {
   "cell_type": "markdown",
   "id": "898f778c-e112-48b1-8a94-e1a07d40a298",
   "metadata": {},
   "source": [
    "## 05. 들여쓰기\n",
    "\n",
    "파이썬에서 들여쓰기는 매우 매우 중요합니다! 다른 많은 프로그래밍 언어(예: C, Java, JavaScript)에서는 코드 블록을 중괄호 {}를 사용하여 구분하지만, 파이썬은 들여쓰기 자체로 코드 블록을 구분합니다.\n",
    "\n",
    "* 언제 들여쓰기를 하나요?\n",
    "    * 함수 정의 내부 (def 다음 줄부터)\n",
    "    * 조건문 (if, elif, else 다음 줄부터) - 나중에 배울 거예요!\n",
    "    * 반복문 (for, while 다음 줄부터) - 나중에 배울 거예요!\n",
    "    * 클래스 정의 내부 (class 다음 줄부터) - 나중에 배울 거예요!\n",
    "    * 기타 논리적인 코드 블록이 시작될 때  \n",
    "\n",
    "* 어떻게 들여쓰기를 하나요?\n",
    "    * 일반적으로 공백(스페이스) 4칸을 사용하는 것이 파이썬 커뮤니티의 표준 권장 사항(PEP 8 스타일 가이드)입니다.\n",
    "    * 탭(Tab)을 사용할 수도 있지만, 스페이스와 탭을 섞어 쓰는 것은 피해야 합니다. 오류의 원인이 될 수 있습니다. 대부분의 코드 편집기는 탭 키를 누르면 자동으로 스페이스 4칸으로 변환해주는 기능을 제공합니다.  \n",
    "\n",
    "* 왜 중요한가요?\n",
    "    * 들여쓰기가 잘못되면 IndentationError라는 문법 오류가 발생하여 프로그램이 실행되지 않습니다.\n",
    "    * 들여쓰기는 코드의 논리적 구조를 명확하게 보여주므로, 가독성을 높이는 데 큰 역할을 합니다."
   ]
  },
  {
   "cell_type": "code",
   "execution_count": null,
   "id": "2fd39352-fdf2-4c10-84cd-42db9222ab50",
   "metadata": {},
   "outputs": [],
   "source": []
  },
  {
   "cell_type": "code",
   "execution_count": null,
   "id": "310a7964-4265-4e8c-beec-aaf9b8a298d9",
   "metadata": {},
   "outputs": [],
   "source": []
  },
  {
   "cell_type": "code",
   "execution_count": null,
   "id": "ec37865a-60ef-4072-bd2d-f1550a3d44f4",
   "metadata": {},
   "outputs": [],
   "source": []
  }
 ],
 "metadata": {
  "kernelspec": {
   "display_name": "Python 3 (ipykernel)",
   "language": "python",
   "name": "python3"
  },
  "language_info": {
   "codemirror_mode": {
    "name": "ipython",
    "version": 3
   },
   "file_extension": ".py",
   "mimetype": "text/x-python",
   "name": "python",
   "nbconvert_exporter": "python",
   "pygments_lexer": "ipython3",
   "version": "3.13.3"
  }
 },
 "nbformat": 4,
 "nbformat_minor": 5
}
