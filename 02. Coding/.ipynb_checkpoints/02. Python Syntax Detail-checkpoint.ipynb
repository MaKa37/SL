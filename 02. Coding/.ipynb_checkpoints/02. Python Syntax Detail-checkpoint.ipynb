{
 "cells": [
  {
   "cell_type": "code",
   "execution_count": 8,
   "id": "1f375c00-44e6-4fb4-8122-69b90d7197fe",
   "metadata": {},
   "outputs": [
    {
     "name": "stdout",
     "output_type": "stream",
     "text": [
      "10진수의 값은 55입니다.\n",
      "2진수의 값은 110111입니다.\n"
     ]
    }
   ],
   "source": [
    "# 10진수를 입력받아 2진수 값으로 반환하는 프로그래밍\n",
    "# random 모듈 불러오기.\n",
    "import random\n",
    "\n",
    "Rnd_Num = random.randrange(1, 100)\n",
    "print(f\"10진수의 값은 {Rnd_Num}입니다.\")\n",
    "\n",
    "Bi_Num = format(Rnd_Num, 'b')\n",
    "print(f\"2진수의 값은 {Bi_Num}입니다.\")"
   ]
  },
  {
   "cell_type": "code",
   "execution_count": 53,
   "id": "c4c9b42a-afc3-4ebd-a668-63bf509e5b42",
   "metadata": {},
   "outputs": [
    {
     "name": "stdout",
     "output_type": "stream",
     "text": [
      "50\n",
      "110010\n",
      "50\n",
      "<class 'str'>\n",
      "50\n",
      "32\n",
      "16\n",
      "0\n",
      "0\n",
      "2\n",
      "0\n",
      "50\n"
     ]
    }
   ],
   "source": [
    "#나눈 값이 홀수면 1 짝수면 0\n",
    "one00 = 100 // 2\n",
    "\n",
    "def binary_calculator(num) :\n",
    "    print(num)\n",
    "    bi = \"\"\n",
    "    \n",
    "    # 숫자가 0일 경우 이진수 값 0\n",
    "    if num == 0 :\n",
    "        bi = \"0\"\n",
    "\n",
    "    # 숫자가 0보다 큰 경우 반복하여 숫자를 2로 나누고  bi 변수에 이진수 값을 추가로 저장한다.\n",
    "    else :\n",
    "        while num > 0 :\n",
    "            bi = str(num % 2) + bi\n",
    "            num = num // 2\n",
    "            \n",
    "    return bi\n",
    "\n",
    "print(binary_calculator(one00))\n",
    "print(type(binary_calculator(one00)))\n",
    "\n",
    "# 이진수 십진수로 변환하기\n",
    "binary = list(binary_calculator(one00))\n",
    "No = 0\n",
    "square = 0\n",
    "result = 0\n",
    "\n",
    "# 이진수를 리스트로 만들기. 110010 >>> [1, 1, 0, 0, 1, 0]\n",
    "# 최대 길이 변수로 곱하고 1씩 빼주기 2 * 6 \n",
    "for i in range(0, len(binary)) :\n",
    "    No = len(binary) - 1 - i\n",
    "    print(int(binary[i]) * 2 ** No)\n",
    "    result += int(binary[i]) * 2 ** No\n",
    "\n",
    "print(result)"
   ]
  },
  {
   "cell_type": "code",
   "execution_count": 13,
   "id": "ac4f244b-d6c2-470d-99d5-abb9f70adf36",
   "metadata": {},
   "outputs": [
    {
     "data": {
      "text/plain": [
       "1"
      ]
     },
     "execution_count": 13,
     "metadata": {},
     "output_type": "execute_result"
    }
   ],
   "source": [
    "107 % 2"
   ]
  },
  {
   "cell_type": "code",
   "execution_count": 45,
   "id": "a1d6778c-07bc-4652-852c-d3cd127df0b2",
   "metadata": {},
   "outputs": [
    {
     "data": {
      "text/plain": [
       "1"
      ]
     },
     "execution_count": 45,
     "metadata": {},
     "output_type": "execute_result"
    }
   ],
   "source": [
    "2 ** 0"
   ]
  },
  {
   "cell_type": "code",
   "execution_count": 1,
   "id": "dc4703ea-da6b-4998-8308-4e5db4b916f5",
   "metadata": {},
   "outputs": [
    {
     "name": "stdout",
     "output_type": "stream",
     "text": [
      "The decimal number 42 in binary (using bin()): 101010\n",
      "The decimal number 0 in binary (using bin()): 0\n",
      "The decimal number 100 in binary (using bin()): 1100100\n",
      "The decimal number -5 in binary (using bin()): Invalid input\n",
      "The decimal number 10.5 in binary (using bin()): Invalid input\n"
     ]
    }
   ],
   "source": [
    "# 파이썬 내장 함수\n",
    "# Method 1: Using the built-in bin() function\n",
    "\n",
    "def decimal_to_binary_bin(decimal_num):\n",
    "  \"\"\"\n",
    "  Converts a decimal number to its binary representation using the bin() function.\n",
    "\n",
    "  Args:\n",
    "    decimal_num: The decimal integer to convert.\n",
    "\n",
    "  Returns:\n",
    "    A string representing the binary form of the decimal number.\n",
    "    Returns \"Invalid input\" if the input is not a non-negative integer.\n",
    "  \"\"\"\n",
    "  if not isinstance(decimal_num, int) or decimal_num < 0:\n",
    "    return \"Invalid input\"\n",
    "  # bin() returns a string prefixed with '0b', so we slice to remove it\n",
    "  return bin(decimal_num)[2:]\n",
    "\n",
    "# Example usage:\n",
    "num = 42\n",
    "binary_representation = decimal_to_binary_bin(num)\n",
    "print(f\"The decimal number {num} in binary (using bin()): {binary_representation}\")\n",
    "\n",
    "num = 0\n",
    "binary_representation = decimal_to_binary_bin(num)\n",
    "print(f\"The decimal number {num} in binary (using bin()): {binary_representation}\")\n",
    "\n",
    "num = 100\n",
    "binary_representation = decimal_to_binary_bin(num)\n",
    "print(f\"The decimal number {num} in binary (using bin()): {binary_representation}\")\n",
    "\n",
    "num = -5 # Example of invalid input\n",
    "binary_representation = decimal_to_binary_bin(num)\n",
    "print(f\"The decimal number {num} in binary (using bin()): {binary_representation}\")\n",
    "\n",
    "num = 10.5 # Example of invalid input\n",
    "binary_representation = decimal_to_binary_bin(num)\n",
    "print(f\"The decimal number {num} in binary (using bin()): {binary_representation}\")"
   ]
  },
  {
   "cell_type": "code",
   "execution_count": 2,
   "id": "0cde23a6-887b-4285-8d7b-99835140e75d",
   "metadata": {},
   "outputs": [
    {
     "name": "stdout",
     "output_type": "stream",
     "text": [
      "The decimal number 42 in binary (using bin()): 0b101010\n"
     ]
    }
   ],
   "source": [
    "# bin() 함수가 반환하는 문자열 앞의 '0b' 접두사는 해당 문자열이 이진수 리터럴(binary literal)임을 나타내는 파이썬의 표기법입니다.\n",
    "\n",
    "# 파이썬에서 숫자를 표현할 때, 접두사를 통해 어떤 진법으로 표현되었는지 구분합니다.\n",
    "\n",
    "# 0b: 이진수 (Binary)\n",
    "# 0o: 팔진수 (Octal)\n",
    "# 0x: 십육진수 (Hexadecimal)\n",
    "\n",
    "def decimal_to_binary_bin(decimal_num):\n",
    "  \"\"\"\n",
    "  Converts a decimal number to its binary representation using the bin() function.\n",
    "\n",
    "  Args:\n",
    "    decimal_num: The decimal integer to convert.\n",
    "\n",
    "  Returns:\n",
    "    A string representing the binary form of the decimal number.\n",
    "    Returns \"Invalid input\" if the input is not a non-negative integer.\n",
    "  \"\"\"\n",
    "  if not isinstance(decimal_num, int) or decimal_num < 0:\n",
    "    return \"Invalid input\"\n",
    "  # bin() returns a string prefixed with '0b', so we slice to remove it\n",
    "  return bin(decimal_num)\n",
    "\n",
    "# Example usage:\n",
    "num = 42\n",
    "binary_representation = decimal_to_binary_bin(num)\n",
    "print(f\"The decimal number {num} in binary (using bin()): {binary_representation}\")"
   ]
  },
  {
   "cell_type": "code",
   "execution_count": 3,
   "id": "6bee0b12-050e-4f4a-a032-c2cef2504286",
   "metadata": {},
   "outputs": [
    {
     "name": "stdout",
     "output_type": "stream",
     "text": [
      "The decimal number 42 in binary (using loop): 101010\n",
      "The decimal number 0 in binary (using loop): 0\n",
      "The decimal number 100 in binary (using loop): 1100100\n",
      "The decimal number -5 in binary (using loop): Invalid input\n",
      "The decimal number 10.5 in binary (using loop): Invalid input\n"
     ]
    }
   ],
   "source": [
    "# Method 2: Using a loop (modulo and integer division)\n",
    "\n",
    "def decimal_to_binary_loop(decimal_num):\n",
    "  \"\"\"\n",
    "  Converts a decimal number to its binary representation using a loop.\n",
    "\n",
    "  Args:\n",
    "    decimal_num: The decimal integer to convert.\n",
    "\n",
    "  Returns:\n",
    "    A string representing the binary form of the decimal number.\n",
    "    Returns \"Invalid input\" if the input is not a non-negative integer.\n",
    "    Returns \"0\" for input 0.\n",
    "  \"\"\"\n",
    "\n",
    "    # 정수가 아니거나 음수일 경우 \"잘못된 입력\"을 반환\n",
    "  if not isinstance(decimal_num, int) or decimal_num < 0:\n",
    "    return \"Invalid input\"\n",
    "      \n",
    "    # 0일 경우 0을 반환\n",
    "  if decimal_num == 0:\n",
    "    return \"0\"\n",
    "\n",
    "  binary_representation = \"\"\n",
    "  temp_num = decimal_num\n",
    "\n",
    "  # 반복문을 통하여 임시 숫자가 0보다 클 경우 계속 2로 나누며 binary_representation에 \"나머지\" 값(짝수는 0, 홀수는 1)을 문자열로 저장\n",
    "  # 2로 나눈 \"몫\"은 임시 숫자인 temp_num에 저장하여 반복문에 활용한다. \n",
    "  # Repeatedly divide the number by 2 and append the remainder\n",
    "  while temp_num > 0:\n",
    "    remainder = temp_num % 2\n",
    "    binary_representation = str(remainder) + binary_representation # Prepend the remainder\n",
    "    temp_num = temp_num // 2\n",
    "\n",
    "  return binary_representation\n",
    "\n",
    "# Example usage:\n",
    "num = 42\n",
    "binary_representation = decimal_to_binary_loop(num)\n",
    "print(f\"The decimal number {num} in binary (using loop): {binary_representation}\")\n",
    "\n",
    "num = 0\n",
    "binary_representation = decimal_to_binary_loop(num)\n",
    "print(f\"The decimal number {num} in binary (using loop): {binary_representation}\")\n",
    "\n",
    "num = 100\n",
    "binary_representation = decimal_to_binary_loop(num)\n",
    "print(f\"The decimal number {num} in binary (using loop): {binary_representation}\")\n",
    "\n",
    "num = -5 # Example of invalid input\n",
    "binary_representation = decimal_to_binary_loop(num)\n",
    "print(f\"The decimal number {num} in binary (using loop): {binary_representation}\")\n",
    "\n",
    "num = 10.5 # Example of invalid input\n",
    "binary_representation = decimal_to_binary_loop(num)\n",
    "print(f\"The decimal number {num} in binary (using loop): {binary_representation}\")\n"
   ]
  },
  {
   "cell_type": "code",
   "execution_count": null,
   "id": "751dcae5-d418-4209-bfaa-70664e81f3bc",
   "metadata": {},
   "outputs": [],
   "source": [
    "# Method 3: Using recursion\n",
    "\n",
    "def decimal_to_binary_recursion(decimal_num):\n",
    "  \"\"\"\n",
    "  Converts a decimal number to its binary representation using recursion.\n",
    "\n",
    "  Args:\n",
    "    decimal_num: The decimal integer to convert.\n",
    "\n",
    "  Returns:\n",
    "    A string representing the binary form of the decimal number.\n",
    "    Returns \"Invalid input\" if the input is not a non-negative integer.\n",
    "    Returns \"0\" for input 0.\n",
    "  \"\"\"\n",
    "  if not isinstance(decimal_num, int) or decimal_num < 0:\n",
    "    return \"Invalid input\"\n",
    "  if decimal_num == 0:\n",
    "    return \"0\"\n",
    "  elif decimal_num == 1:\n",
    "    return \"1\"\n",
    "\n",
    "  # 반복 수행하는 재귀 함수. else의 경우 다시 함수를 불러와서 실행한다.\n",
    "  else:\n",
    "    # Recursively call the function with integer division by 2\n",
    "    # and append the remainder of division by 2\n",
    "    return decimal_to_binary_recursion(decimal_num // 2) + str(decimal_num % 2)\n",
    "\n",
    "# Example usage:\n",
    "num = 42\n",
    "binary_representation = decimal_to_binary_recursion(num)\n",
    "print(f\"The decimal number {num} in binary (using recursion): {binary_representation}\")\n",
    "\n",
    "# 42의 이진수는 101010이다.\n",
    "# 1회차 42 // 2 = 21 + 42 % 2 = \"0\"\n",
    "# 2회차 21 // 2 = 10 + 21 % 2 = \"1\"\n",
    "# 3회차 10 // 2 = 5 + 10 % 2 = \"0\"\n",
    "# 4회차 5 // 2 = 2 + 5 % 2 = \"1\"\n",
    "# 5회차 2 // 2 = 1 + 2 % 2 = \"0\"\n",
    "# 6회차 1 // 2 = 0 + 1 % 2 = \"1\"\n",
    "\n",
    "# 회차 역순(재귀)\n",
    "# 1 // 2 = 0 + 1 % 2 = \"1\"\n",
    "# 2 // 2 = 1 + 2 % 2 = \"0\"\n",
    "# 5 // 2 = 2 + 5 % 2 = \"1\"\n",
    "# 10 // 2 = 5 + 10 % 2 = \"0\"\n",
    "# 21 // 2 = 10 + 21 % 2 = \"1\"\n",
    "# 42 // 2 = 21 + 42 % 2 = \"0\"\n",
    "# \"1\" + \"0\" + \"1\" + \"0\" + \"1\" + \"0\" = \"101010\"을 반환\n",
    "\n",
    "num = 0\n",
    "binary_representation = decimal_to_binary_recursion(num)\n",
    "print(f\"The decimal number {num} in binary (using recursion): {binary_representation}\")\n",
    "\n",
    "num = 100\n",
    "binary_representation = decimal_to_binary_recursion(num)\n",
    "print(f\"The decimal number {num} in binary (using recursion): {binary_representation}\")\n",
    "\n",
    "num = -5 # Example of invalid input\n",
    "binary_representation = decimal_to_binary_recursion(num)\n",
    "print(f\"The decimal number {num} in binary (using recursion): {binary_representation}\")\n",
    "\n",
    "num = 10.5 # Example of invalid input\n",
    "binary_representation = decimal_to_binary_recursion(num)\n",
    "print(f\"The decimal number {num} in binary (using recursion): {binary_representation}\")"
   ]
  },
  {
   "cell_type": "code",
   "execution_count": 4,
   "id": "ec1c5890-dab1-4d62-9122-51536ba1d786",
   "metadata": {},
   "outputs": [
    {
     "data": {
      "text/plain": [
       "1"
      ]
     },
     "execution_count": 4,
     "metadata": {},
     "output_type": "execute_result"
    }
   ],
   "source": []
  },
  {
   "cell_type": "code",
   "execution_count": null,
   "id": "ca0b4d68-440e-49f4-b3da-0a2bb4bd88ff",
   "metadata": {},
   "outputs": [],
   "source": []
  },
  {
   "cell_type": "code",
   "execution_count": null,
   "id": "e240c030-853c-4207-a15d-ea1b4c939c6e",
   "metadata": {},
   "outputs": [],
   "source": []
  },
  {
   "cell_type": "code",
   "execution_count": null,
   "id": "449e3326-5c22-4345-9f7a-251ff488e7de",
   "metadata": {},
   "outputs": [],
   "source": []
  },
  {
   "cell_type": "code",
   "execution_count": null,
   "id": "37c32c70-aecc-4c97-aad4-bd5f860f2dcf",
   "metadata": {},
   "outputs": [],
   "source": []
  },
  {
   "cell_type": "code",
   "execution_count": null,
   "id": "b5c30444-e668-40c0-892f-c3e966a3c596",
   "metadata": {},
   "outputs": [],
   "source": []
  },
  {
   "cell_type": "code",
   "execution_count": null,
   "id": "63e0540f-2316-410a-9574-361b3f5ff82e",
   "metadata": {},
   "outputs": [],
   "source": []
  },
  {
   "cell_type": "code",
   "execution_count": null,
   "id": "2733f585-df63-4c31-9e02-4370dbe0b70d",
   "metadata": {},
   "outputs": [],
   "source": []
  },
  {
   "cell_type": "code",
   "execution_count": null,
   "id": "90df5b1f-0f04-42e1-b624-6df91cca5c11",
   "metadata": {},
   "outputs": [],
   "source": []
  },
  {
   "cell_type": "code",
   "execution_count": null,
   "id": "3df89e85-56b1-41c4-a8e3-29fa8127f75e",
   "metadata": {},
   "outputs": [],
   "source": []
  }
 ],
 "metadata": {
  "kernelspec": {
   "display_name": "Python 3 (ipykernel)",
   "language": "python",
   "name": "python3"
  },
  "language_info": {
   "codemirror_mode": {
    "name": "ipython",
    "version": 3
   },
   "file_extension": ".py",
   "mimetype": "text/x-python",
   "name": "python",
   "nbconvert_exporter": "python",
   "pygments_lexer": "ipython3",
   "version": "3.13.3"
  }
 },
 "nbformat": 4,
 "nbformat_minor": 5
}
