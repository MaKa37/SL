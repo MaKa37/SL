{
 "cells": [
  {
   "cell_type": "markdown",
   "id": "694e189e-c69b-4826-a685-d9dff2c3ad88",
   "metadata": {},
   "source": [
    "던더 메서드 챕터별 분류\n",
    "던더 메서드들을 기능적 유사성에 따라 챕터로 분류하여 정리했습니다.\n",
    "\n",
    "1. 객체 생성 및 소멸: 객체의 생명 주기를 다루는 메서드들\n",
    "객체가 메모리에 생성되고 초기화되며, 나중에 소멸되는 과정과 관련된 메서드들을 포함합니다.\n",
    "\n",
    "2. 객체 표현 (문자열): 객체를 문자열로 나타내는 방법 정의\n",
    "객체를 사람이 읽을 수 있는 문자열 형태로 변환하는 방법을 정의하는 메서드들입니다. 객체를 출력하거나 디버깅할 때 유용합니다.\n",
    "\n",
    "3. 산술 및 복합 할당 연산: 객체 간의 수학 연산 동작 정의\n",
    "덧셈, 뺄셈, 곱셈과 같은 기본적인 수학 연산뿐만 아니라, +=, -=처럼 값을 연산한 후 다시 할당하는 복합 연산의 동작을 객체에 맞게 정의합니다.\n",
    "\n",
    "4. 비교 연산: 객체들 간의 비교 논리 정의\n",
    "객체들 간의 동등성(같음)이나 크기(크고 작음)를 비교하는 연산자들(==, <, >= 등)이 어떻게 동작할지 정의합니다.\n",
    "\n",
    "5. 컨테이너 에뮬레이션: 객체를 컨테이너처럼 동작하게 만들기\n",
    "리스트, 딕셔너리처럼 여러 항목을 담는 '컨테이너' 객체처럼 동작하게 만드는 메서드들입니다. 길이 확인, 인덱싱 접근, 항목 포함 여부 등을 정의합니다.\n",
    "\n",
    "6. 이터레이터 및 제너레이터: 객체를 반복 가능한 형태로 만들기\n",
    "객체를 반복 가능한(iterable) 형태로 만들어 for 루프와 함께 사용될 수 있도록 하는 메서드들입니다. 순차적으로 다음 값을 생성하고 반환하는 로직을 정의합니다.\n",
    "\n",
    "7. 호출 가능 객체: 객체 인스턴스를 함수처럼 호출하기\n",
    "객체 인스턴스 자체를 마치 함수처럼 괄호 ()를 사용하여 호출할 수 있게 만드는 메서드입니다.\n",
    "\n",
    "8. 속성 접근 제어: 객체의 속성 접근 방식 커스터마이징\n",
    "객체의 속성(변수)에 접근하고, 값을 설정하며, 삭제하는 방식을 프로그래밍적으로 제어하고 커스터마이징하는 메서드들입니다.\n",
    "\n",
    "9. 컨텍스트 관리자: with 문을 사용한 자원 관리\n",
    "with 문과 함께 사용하여 파일 열기/닫기, 네트워크 연결/해제와 같이 자원을 안전하게 할당하고 해제하는 과정을 관리하는 메서드들입니다."
   ]
  },
  {
   "cell_type": "markdown",
   "id": "e714c187-36a1-48df-bd20-2aa896e89581",
   "metadata": {},
   "source": [
    "| 카테고리             | 던더 메서드                               | 기능                                                                                                  | 사용 예시                                            |\n",
    "| :------------------- | :---------------------------------------- | :---------------------------------------------------------------------------------------------------- | :--------------------------------------------------- |\n",
    "| **생성 및 초기화** | `__init__(self, ...)`                     | 객체 초기 상태 설정 (인스턴스 생성 시 호출)                                                         | `MyClass(arg)`                                       |\n",
    "|                      | `__new__(cls, ...)`                       | 인스턴스 생성 (초기화보다 먼저 호출, 주로 불변 객체/싱글톤)                                           | `MyClass()`                                          |\n",
    "|                      | `__del__(self)`                           | 객체 메모리에서 삭제 시 호출 (자원 정리, 예측 어려움)                                                 | (가비지 컬렉터에 의해)                               |\n",
    "| **표현 (문자열)** | `__repr__(self)`                          | 객체의 공식적인(개발자용) 문자열 표현 (재현 가능한 형태)                                            | `repr(obj)` 또는 인터프리터에서 `obj`                 |\n",
    "|                      | `__str__(self)`                           | 객체의 비공식적인(사용자용) 문자열 표현 (읽기 쉬운 형태)                                            | `str(obj)` 또는 `print(obj)`                         |\n",
    "| **산술 연산** | `__add__(self, other)`                    | `+` (덧셈)                                                                                            | `obj1 + obj2`                                        |\n",
    "|                      | `__sub__(self, other)`                    | `-` (뺄셈)                                                                                            | `obj1 - obj2`                                        |\n",
    "|                      | `__mul__(self, other)`                    | `*` (곱셈)                                                                                            | `obj1 * obj2`                                        |\n",
    "|                      | `__truediv__(self, other)`                | `/` (나눗셈, 실수 결과)                                                                               | `obj1 / obj2`                                        |\n",
    "|                      | `__floordiv__(self, other)`               | `//` (나눗셈, 정수 결과)                                                                              | `obj1 // obj2`                                       |\n",
    "|                      | `__mod__(self, other)`                    | `%` (나머지)                                                                                          | `obj1 % obj2`                                        |\n",
    "|                      | `__pow__(self, other)`                    | `**` (거듭제곱)                                                                                       | `obj1 ** obj2`                                       |\n",
    "|                      | `__iadd__(self, other)`                   | `+=` (복합 대입 덧셈)                                                                                 | `obj1 += obj2`                                       |\n",
    "|                      | *(그 외 `__isub__`, `__imul__` 등)* | *복합 대입 연산자 (`-=`, `*=`, 등)* | `obj1 -= obj2`                                       |\n",
    "| **비교 연산** | `__eq__(self, other)`                     | `==` (같다)                                                                                           | `obj1 == obj2`                                       |\n",
    "|                      | `__ne__(self, other)`                     | `!=` (같지 않다)                                                                                      | `obj1 != obj2`                                       |\n",
    "|                      | `__lt__(self, other)`                     | `<` (작다)                                                                                            | `obj1 < obj2`                                        |\n",
    "|                      | `__le__(self, other)`                     | `<=` (작거나 같다)                                                                                    | `obj1 <= obj2`                                       |\n",
    "|                      | `__gt__(self, other)`                     | `>` (크다)                                                                                            | `obj1 > obj2`                                        |\n",
    "|                      | `__ge__(self, other)`                     | `>=` (크거나 같다)                                                                                    | `obj1 >= obj2`                                       |\n",
    "| **컨테이너 에뮬레이션**| `__len__(self)`                           | `len()` 함수 동작 정의 (객체 길이 반환)                                                               | `len(obj)`                                           |\n",
    "|                      | `__getitem__(self, key)`                  | 인덱싱 (`obj[key]`) 및 슬라이싱 (`obj[start:end]`) 동작 정의                                          | `obj[0]`, `obj[1:5]`                                 |\n",
    "|                      | `__setitem__(self, key, value)`           | 인덱스에 값 할당 (`obj[key] = value`) 동작 정의                                                       | `obj[0] = \"new\"`                                     |\n",
    "|                      | `__delitem__(self, key)`                  | 인덱스 요소 삭제 (`del obj[key]`) 동작 정의                                                           | `del obj[0]`                                         |\n",
    "|                      | `__contains__(self, item)`                | `in` 연산자 (`item in obj`) 동작 정의 (객체 포함 여부)                                              | `\"item\" in obj`                                      |\n",
    "| **반복자 (Iterator)** | `__iter__(self)`                          | 객체를 반복 가능하게 함 (`for` 루프 등에 사용), 이터레이터 객체 반환                                | `for item in obj:`                                   |\n",
    "|                      | `__next__(self)`                          | 이터레이터의 다음 값 반환 (더 이상 없으면 `StopIteration` 발생)                                       | `next(obj)`                                          |\n",
    "| **호출 가능 객체** | `__call__(self, ...)`                     | 객체를 함수처럼 호출 가능하게 함 (`obj()`)                                                            | `obj(arg1, arg2)`                                    |\n",
    "| **속성 접근** | `__getattr__(self, name)`                 | 존재하지 않는 속성에 접근 시 호출 (기본 `AttributeError` 재정의)                                      | `obj.non_existent`                                   |\n",
    "|                      | `__setattr__(self, name, value)`          | 모든 속성 할당 시 호출                                                                                | `obj.attr = value`                                   |\n",
    "|                      | `__delattr__(self, name)`                 | 속성 삭제 시 호출                                                                                     | `del obj.attr`                                       |\n",
    "|                      | `__getattribute__(self, name)`            | 모든 속성 접근 시 호출 (`__getattr__`보다 먼저 호출)                                                 | `obj.any_attribute`                                  |\n",
    "| **컨텍스트 관리자** | `__enter__(self)`                         | `with` 문 진입 시 호출 (자원 설정)                                                                    | `with obj as x:`                                     |\n",
    "|                      | `__exit__(self, exc_type, exc_val, exc_tb)`| `with` 문 종료 시 호출 (자원 해제 및 예외 처리)                                                       | `with obj as x:`                                     |"
   ]
  },
  {
   "cell_type": "code",
   "execution_count": null,
   "id": "e65c26dd-1fdf-4c23-9390-eac2a7f944d7",
   "metadata": {},
   "outputs": [],
   "source": []
  },
  {
   "cell_type": "code",
   "execution_count": null,
   "id": "775dbbde-fd27-41d9-ba57-f2a14417e527",
   "metadata": {},
   "outputs": [],
   "source": []
  },
  {
   "cell_type": "code",
   "execution_count": null,
   "id": "b1b060e3-9f72-4a62-a964-83112803966b",
   "metadata": {},
   "outputs": [],
   "source": []
  },
  {
   "cell_type": "code",
   "execution_count": null,
   "id": "4ab88229-625d-4de9-99b7-d0666db20748",
   "metadata": {},
   "outputs": [],
   "source": []
  }
 ],
 "metadata": {
  "kernelspec": {
   "display_name": "Python 3 (ipykernel)",
   "language": "python",
   "name": "python3"
  },
  "language_info": {
   "codemirror_mode": {
    "name": "ipython",
    "version": 3
   },
   "file_extension": ".py",
   "mimetype": "text/x-python",
   "name": "python",
   "nbconvert_exporter": "python",
   "pygments_lexer": "ipython3",
   "version": "3.13.3"
  }
 },
 "nbformat": 4,
 "nbformat_minor": 5
}
