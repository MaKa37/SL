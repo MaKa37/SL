{
 "cells": [
  {
   "cell_type": "code",
   "execution_count": 8,
   "id": "1f375c00-44e6-4fb4-8122-69b90d7197fe",
   "metadata": {},
   "outputs": [
    {
     "name": "stdout",
     "output_type": "stream",
     "text": [
      "10진수의 값은 55입니다.\n",
      "2진수의 값은 110111입니다.\n"
     ]
    }
   ],
   "source": [
    "# 10진수를 입력받아 2진수 값으로 반환하는 프로그래밍\n",
    "# random 모듈 불러오기.\n",
    "import random\n",
    "\n",
    "Rnd_Num = random.randrange(1, 100)\n",
    "print(f\"10진수의 값은 {Rnd_Num}입니다.\")\n",
    "\n",
    "Bi_Num = format(Rnd_Num, 'b')\n",
    "print(f\"2진수의 값은 {Bi_Num}입니다.\")"
   ]
  },
  {
   "cell_type": "code",
   "execution_count": 53,
   "id": "c4c9b42a-afc3-4ebd-a668-63bf509e5b42",
   "metadata": {},
   "outputs": [
    {
     "name": "stdout",
     "output_type": "stream",
     "text": [
      "50\n",
      "110010\n",
      "50\n",
      "<class 'str'>\n",
      "50\n",
      "32\n",
      "16\n",
      "0\n",
      "0\n",
      "2\n",
      "0\n",
      "50\n"
     ]
    }
   ],
   "source": [
    "#나눈 값이 홀수면 1 짝수면 0\n",
    "one00 = 100 // 2\n",
    "\n",
    "def binary_calculator(num) :\n",
    "    print(num)\n",
    "    bi = \"\"\n",
    "    \n",
    "    # 숫자가 0일 경우 이진수 값 0\n",
    "    if num == 0 :\n",
    "        bi = \"0\"\n",
    "\n",
    "    # 숫자가 0보다 큰 경우 반복하여 숫자를 2로 나누고  bi 변수에 이진수 값을 추가로 저장한다.\n",
    "    else :\n",
    "        while num > 0 :\n",
    "            bi = str(num % 2) + bi\n",
    "            num = num // 2\n",
    "            \n",
    "    return bi\n",
    "\n",
    "print(binary_calculator(one00))\n",
    "print(type(binary_calculator(one00)))\n",
    "\n",
    "# 이진수 십진수로 변환하기\n",
    "binary = list(binary_calculator(one00))\n",
    "No = 0\n",
    "square = 0\n",
    "result = 0\n",
    "\n",
    "# 이진수를 리스트로 만들기. 110010 >>> [1, 1, 0, 0, 1, 0]\n",
    "# 최대 길이 변수로 곱하고 1씩 빼주기 2 * 6 \n",
    "for i in range(0, len(binary)) :\n",
    "    No = len(binary) - 1 - i\n",
    "    print(int(binary[i]) * 2 ** No)\n",
    "    result += int(binary[i]) * 2 ** No\n",
    "\n",
    "print(result)"
   ]
  },
  {
   "cell_type": "code",
   "execution_count": 13,
   "id": "ac4f244b-d6c2-470d-99d5-abb9f70adf36",
   "metadata": {},
   "outputs": [
    {
     "data": {
      "text/plain": [
       "1"
      ]
     },
     "execution_count": 13,
     "metadata": {},
     "output_type": "execute_result"
    }
   ],
   "source": [
    "107 % 2"
   ]
  },
  {
   "cell_type": "code",
   "execution_count": 45,
   "id": "a1d6778c-07bc-4652-852c-d3cd127df0b2",
   "metadata": {},
   "outputs": [
    {
     "data": {
      "text/plain": [
       "1"
      ]
     },
     "execution_count": 45,
     "metadata": {},
     "output_type": "execute_result"
    }
   ],
   "source": [
    "2 ** 0"
   ]
  },
  {
   "cell_type": "code",
   "execution_count": null,
   "id": "dc4703ea-da6b-4998-8308-4e5db4b916f5",
   "metadata": {},
   "outputs": [],
   "source": []
  },
  {
   "cell_type": "code",
   "execution_count": null,
   "id": "0cde23a6-887b-4285-8d7b-99835140e75d",
   "metadata": {},
   "outputs": [],
   "source": []
  },
  {
   "cell_type": "code",
   "execution_count": null,
   "id": "6bee0b12-050e-4f4a-a032-c2cef2504286",
   "metadata": {},
   "outputs": [],
   "source": []
  },
  {
   "cell_type": "code",
   "execution_count": null,
   "id": "751dcae5-d418-4209-bfaa-70664e81f3bc",
   "metadata": {},
   "outputs": [],
   "source": []
  },
  {
   "cell_type": "code",
   "execution_count": null,
   "id": "ec1c5890-dab1-4d62-9122-51536ba1d786",
   "metadata": {},
   "outputs": [],
   "source": []
  },
  {
   "cell_type": "code",
   "execution_count": null,
   "id": "ca0b4d68-440e-49f4-b3da-0a2bb4bd88ff",
   "metadata": {},
   "outputs": [],
   "source": []
  },
  {
   "cell_type": "code",
   "execution_count": null,
   "id": "e240c030-853c-4207-a15d-ea1b4c939c6e",
   "metadata": {},
   "outputs": [],
   "source": []
  },
  {
   "cell_type": "code",
   "execution_count": null,
   "id": "449e3326-5c22-4345-9f7a-251ff488e7de",
   "metadata": {},
   "outputs": [],
   "source": []
  },
  {
   "cell_type": "code",
   "execution_count": null,
   "id": "37c32c70-aecc-4c97-aad4-bd5f860f2dcf",
   "metadata": {},
   "outputs": [],
   "source": []
  },
  {
   "cell_type": "code",
   "execution_count": null,
   "id": "b5c30444-e668-40c0-892f-c3e966a3c596",
   "metadata": {},
   "outputs": [],
   "source": []
  },
  {
   "cell_type": "code",
   "execution_count": null,
   "id": "63e0540f-2316-410a-9574-361b3f5ff82e",
   "metadata": {},
   "outputs": [],
   "source": []
  },
  {
   "cell_type": "code",
   "execution_count": null,
   "id": "2733f585-df63-4c31-9e02-4370dbe0b70d",
   "metadata": {},
   "outputs": [],
   "source": []
  },
  {
   "cell_type": "code",
   "execution_count": null,
   "id": "90df5b1f-0f04-42e1-b624-6df91cca5c11",
   "metadata": {},
   "outputs": [],
   "source": []
  },
  {
   "cell_type": "code",
   "execution_count": null,
   "id": "3df89e85-56b1-41c4-a8e3-29fa8127f75e",
   "metadata": {},
   "outputs": [],
   "source": []
  }
 ],
 "metadata": {
  "kernelspec": {
   "display_name": "Python 3 (ipykernel)",
   "language": "python",
   "name": "python3"
  },
  "language_info": {
   "codemirror_mode": {
    "name": "ipython",
    "version": 3
   },
   "file_extension": ".py",
   "mimetype": "text/x-python",
   "name": "python",
   "nbconvert_exporter": "python",
   "pygments_lexer": "ipython3",
   "version": "3.13.3"
  }
 },
 "nbformat": 4,
 "nbformat_minor": 5
}
