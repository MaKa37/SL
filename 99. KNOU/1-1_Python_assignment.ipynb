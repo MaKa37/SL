{
 "cells": [
  {
   "cell_type": "markdown",
   "id": "bf984666-cedd-4b48-8260-463113685e99",
   "metadata": {},
   "source": [
    "# 1학년 1학기 KNOU 파이썬 프로그래밍 중간과제물 정리 노트"
   ]
  },
  {
   "cell_type": "markdown",
   "id": "b3304707-3aa0-4243-9b38-0fc773d0ccb0",
   "metadata": {},
   "source": [
    "## 문제1. 순차 구조와 name 변수를 사용하여 다음과 같은 결과를 출력하는 프로그램을 완성하시오.\n",
    "\n",
    "```\n",
    "# (배점: 3점) (단, 실행결과와 파이썬 코드만 제출하시오)\n",
    "\n",
    "name = \"파이썬\"\n",
    "### 코드작성 ###\n",
    "### 코드작성 ###\n",
    "### 코드작성 ###\n",
    "\n",
    "- 출력 예시 -\n",
    "안녕하세요! 파이썬의 세계에 오신것을 환영합니다.\n",
    "여러분은 파이썬의 매력은 무한합니다.\n",
    "파이썬 만세 만세 만세 만세 만세\n",
    "```"
   ]
  },
  {
   "cell_type": "code",
   "execution_count": 12,
   "id": "33c659bb-44e7-4c19-b41c-0d7171e5e6f5",
   "metadata": {},
   "outputs": [
    {
     "name": "stdout",
     "output_type": "stream",
     "text": [
      "안녕하세요! 파이썬의 세계에 오신것을 환영합니다.\n",
      "여러분은 파이썬의 매력은 무한합니다.\n",
      "파이썬 만세 만세 만세 만세 만세\n"
     ]
    }
   ],
   "source": [
    "name = \"파이썬\"\n",
    "print(f\"안녕하세요! {name}의 세계에 오신것을 환영합니다.\")\n",
    "print(f\"여러분은 {name}의 매력은 무한합니다.\")\n",
    "print(f\"{name} 만세 만세 만세 만세 만세\")"
   ]
  },
  {
   "cell_type": "markdown",
   "id": "7fab2d32-4f9a-44fe-997f-1c0023cf72a9",
   "metadata": {},
   "source": [
    "## 문제2. 순차 구조를 사용하여 대출금에 따른 월 이자를 계산하는 프로그램을 작성하려고 한다.\n",
    "- 대출금을 입력하연 금리 유형에 따라 월 이자를 출력하는 프로그램 작성하고 아래와 같이 실행화면을 보이시오. (1원 이하 금액은 절삭하시오) (배점: 7점) (단, 실행결과와 파이썬 코드만 제출하시오)\n",
    "\n",
    "**-금리 유형표-**\n",
    "| 금리유형 | 금리(%)         | \n",
    "| :----- | :----------- | \n",
    "| 6개월 변동    | 3.71         | \n",
    "| 12개월 변동    | 3.98         | \n",
    "| 2년 고정    | 5.05         |\n",
    "\n",
    "**-입력 값 예시-**  \n",
    "대출 금액을 입력하세요: 1000000\n",
    "\n",
    "**이자 계산 공식 = 월 단위 이자: 원금 x 연이율 x 월수 / 12**  \n",
    "금리 유형별 월 이자:  \n",
    "6개월 변동: 3091원  \n",
    "12개월 변동: 3316원  \n",
    "2년 고정: 4208원"
   ]
  },
  {
   "cell_type": "code",
   "execution_count": 26,
   "id": "4a2cffd9-8cf5-4a86-b222-a601b44402c1",
   "metadata": {},
   "outputs": [
    {
     "name": "stdin",
     "output_type": "stream",
     "text": [
      "대출 금액을 입력하세요: 1000000\n"
     ]
    },
    {
     "name": "stdout",
     "output_type": "stream",
     "text": [
      "금리 유형별 월 이자:\n",
      "6개월 변동: 3091원\n",
      "12개월 변동:3316원\n",
      "2년 고정:4208원\n"
     ]
    }
   ],
   "source": [
    "value = int(input(\"대출 금액을 입력하세요:\"))\n",
    "\n",
    "print(\"금리 유형별 월 이자:\")\n",
    "print(\"6개월 변동: \", int(value * 0.0371 / 12), \"원\", sep='')\n",
    "print(\"12개월 변동:\", int(value * 0.0398 / 12), \"원\", sep='')\n",
    "print(\"2년 고정:\", int(value * 0.0505 / 12), \"원\", sep='')"
   ]
  },
  {
   "cell_type": "code",
   "execution_count": 1,
   "id": "1d498472-5256-44f4-87b8-83ac0a65a6e4",
   "metadata": {},
   "outputs": [
    {
     "name": "stdin",
     "output_type": "stream",
     "text": [
      "대출 금액을 입력하세요:  1000000\n"
     ]
    },
    {
     "name": "stdout",
     "output_type": "stream",
     "text": [
      "\n",
      "금리 유형별 월 이자:\n",
      "6개월 변동: 3091원\n",
      "12개월 변동: 3316원\n",
      "2년 고정: 4208원\n"
     ]
    }
   ],
   "source": [
    "# ChatGPT 활용\n",
    "# 대출금 입력\n",
    "loan = int(input(\"대출 금액을 입력하세요: \"))\n",
    "\n",
    "# 금리 정보 (연이율)\n",
    "rates = {\n",
    "    \"6개월 변동\": 3.71,\n",
    "    \"12개월 변동\": 3.98,\n",
    "    \"2년 고정\": 5.05\n",
    "}\n",
    "\n",
    "# 이자 계산 및 출력\n",
    "print(\"\\n금리 유형별 월 이자:\")\n",
    "for rate_type, annual_rate in rates.items():\n",
    "    monthly_interest = int(loan * (annual_rate / 100) / 12)  # 1원 이하 절삭\n",
    "    print(f\"{rate_type}: {monthly_interest}원\")"
   ]
  },
  {
   "cell_type": "markdown",
   "id": "d1f33189-95ff-4291-aca3-0a4f643bf553",
   "metadata": {},
   "source": [
    "```\n",
    "작성한 코드와 ChatGPT 최적화 코드랑 비교·분석\n",
    "분석 대상 코드는 변수명 명칭이 금융 도메인 특화 용어에 부합하도록 설계되어, 이는 금융 도메인의 맥락을 간결하고 명확히 반영함으로써 코드를 읽는 금융업계 전문가들의 이해도를 크게 높이는 데 기여하였다. 데이터 구조는 딕셔너리 형태를 채택하여 키(Key)-값(Value) 쌍으로 정보를 효율적으로 구조화하여 관리하고 있으며, for 루프를 통한 이터러블(iterable) 방식으로 순회하며 각 데이터 요소의 키와 값을 추출, 이를 표준 출력(print 함수)으로 제시하는 방식을 구현하고 있음을 확인하였다. \n",
    "\n",
    "코드의 현재 실행 결과는 기능 요구사항과 일치하나, 장기적인 시스템의 유지보수성 및 확장성 증진 관점에서 참고하는 바는, 금리 유형별 특성을 규정하는 로직과 실제 월 이자를 산출하는 핵심 연산 로직을 명확히 분리하여 독립적인 모듈로 관리하는 구조적 개선이 필요하다는 점이다. 이는 코드의 응집도를 높이고 결합도를 낮추어 향후 변경 관리의 효율성(유지보수)을 크게 향상시킬 것으로 사료된다.\n",
    "```"
   ]
  },
  {
   "cell_type": "markdown",
   "id": "364abbb7-4c58-4ab5-9372-1fd48e055293",
   "metadata": {},
   "source": [
    "## 문제3. 키(m)와 몸무게(kg)을 입력하면 BMI를 계산하고 다음의 표에 따라 결과를 출력해주는 파이썬 프로그램을 작성하시오. (배점 : 10점) (단, 실행결과와 파이썬 코드만 제출하시오.)\n",
    "- BMI = 몸무게(kg) / 키(m) X 키(m)\n",
    "\n",
    "**-BMI 구분표-**\n",
    "| 구분 | BMI         | \n",
    "| :----- | :----------- | \n",
    "| 저체중    | 18.5 미만         | \n",
    "| 정상    | 18.5 ~ 22.9         | \n",
    "| 과체중    | 23 ~ 24.9         |\n",
    "| 경도비만    | 25 ~ 29.9         |\n",
    "| 고도비만    | 30 이상         |\n",
    "\n",
    "**-입력 값 예시-**  \n",
    "키(m)를 입력하세요: 1.79  \n",
    "몸무게(kg)를 입력하세요: 72  \n",
    "BMI: 22.47  \n",
    "판정 결과: 정상  "
   ]
  },
  {
   "cell_type": "code",
   "execution_count": 28,
   "id": "7ba2f388-e914-4ff5-9582-1cc6bfdb3f57",
   "metadata": {},
   "outputs": [
    {
     "name": "stdin",
     "output_type": "stream",
     "text": [
      "키(m)를 입력하세요: 1.79\n",
      "몸무게(kg)를 입력하세요: 72\n"
     ]
    },
    {
     "name": "stdout",
     "output_type": "stream",
     "text": [
      "BMI:  22.47\n",
      "판정 결과: 정상\n"
     ]
    }
   ],
   "source": [
    "class BMI:\n",
    "    def __init__ (self, m, kg) :\n",
    "        self.m = m\n",
    "        self.kg = kg\n",
    "\n",
    "    def BMI_Cal(self) :\n",
    "        BMI = self.kg / ( self.m * self.m )\n",
    "        return BMI\n",
    "    \n",
    "    def BMI_status(self) :\n",
    "        BMI = self.BMI_Cal()\n",
    "        \n",
    "        if BMI < 18.5 :\n",
    "            return \"저체중\"\n",
    "            \n",
    "        elif BMI >= 18.5 and BMI <= 22.9 :\n",
    "            return \"정상\"\n",
    "            \n",
    "        elif BMI >= 23 and BMI <= 24.9 :\n",
    "            return \"과체중\"\n",
    "    \n",
    "        elif BMI >= 25 and BMI <= 29.9 :\n",
    "            return \"경도비만\"\n",
    "    \n",
    "        else :\n",
    "            return \"고도비만\"\n",
    "\n",
    "m = float(input(\"키(m)를 입력하세요:\"))\n",
    "kg = float(input(\"몸무게(kg)를 입력하세요:\"))\n",
    "print(\"BMI: \", format(BMI(m, kg).BMI_Cal(), \".2f\"))\n",
    "print(\"판정 결과:\", BMI(m, kg).BMI_status())"
   ]
  },
  {
   "cell_type": "code",
   "execution_count": 2,
   "id": "37d01dea-c21c-44e6-b83a-e26ce8942af6",
   "metadata": {},
   "outputs": [
    {
     "name": "stdin",
     "output_type": "stream",
     "text": [
      "키(m)를 입력하세요:  1.79\n",
      "몸무게(kg)를 입력하세요:  72\n"
     ]
    },
    {
     "name": "stdout",
     "output_type": "stream",
     "text": [
      "BMI: 22.47\n",
      "판정 결과: 정상\n"
     ]
    }
   ],
   "source": [
    "# ChatGPT 활용\n",
    "class BMI:\n",
    "    def __init__(self, m, kg):\n",
    "        self.m = m\n",
    "        self.kg = kg\n",
    "        self.bmi = self.calculate_bmi()  # 한 번 계산하여 저장\n",
    "\n",
    "    def calculate_bmi(self):\n",
    "        return self.kg / (self.m ** 2)\n",
    "\n",
    "    def get_status(self):\n",
    "        if self.bmi < 18.5:\n",
    "            return \"저체중\"\n",
    "        elif self.bmi <= 22.9:\n",
    "            return \"정상\"\n",
    "        elif self.bmi <= 24.9:\n",
    "            return \"과체중\"\n",
    "        elif self.bmi <= 29.9:\n",
    "            return \"경도비만\"\n",
    "        else:\n",
    "            return \"고도비만\"\n",
    "\n",
    "# 입력\n",
    "m = float(input(\"키(m)를 입력하세요: \"))\n",
    "kg = float(input(\"몸무게(kg)를 입력하세요: \"))\n",
    "\n",
    "# 객체 생성\n",
    "person = BMI(m, kg)\n",
    "\n",
    "# 결과 출력\n",
    "print(\"BMI:\", format(person.bmi, \".2f\"))\n",
    "print(\"판정 결과:\", person.get_status())"
   ]
  },
  {
   "cell_type": "markdown",
   "id": "53f8c565-a301-4ced-b0fe-3edb3bc20e72",
   "metadata": {},
   "source": [
    "```\n",
    "비교·분석\n",
    "생성형 인공지능 코드는 BMI(체질량지수) 계산 클래스의 구현을 대상으로 기존 코드와 최적화된 설계 방안 간의 구조적 차이와 그 효용성을 규명하였다. 기존 코드는 BMI 계산 로직이 각 메서드 내에서 반복적으로 수행되고 불필요한 객체 중복 생성이 발생하는 비효율적인 구조였다. 반면, 반환된 코드는 객체 초기화 단계인 __init__ 메서드 내에서 BMI를 한 번만 계산한 후, 이를 인스턴스 속성(self.bmi)으로 저장하여 클래스 내 모든 메서드에서 해당 값을 효율적으로 재사용하도록 설계되었다. 이러한 설계는 계산 효율성을 향상시키고, 의미론적인 메서드 명명 및 객체 재활용을 통해 코드의 가독성과 유지보수성을 동시에 증진시켰다. 특히 __init__에서 계산된 결과가 객체 속성으로 관리되어 클래스 내부에서 자유롭게 참조 가능한 점은 객체 지향 설계의 강점을 명확히 보여준다. 결론적으로 중복 연산 제거, 성능 개선, 그리고 코드 구조의 명료화 측면에서 기존 코드보다 효율적으로 보입니다.\n",
    "```"
   ]
  },
  {
   "cell_type": "code",
   "execution_count": null,
   "id": "2fd67b02-7e1e-4097-9c63-6423080cdf7c",
   "metadata": {},
   "outputs": [],
   "source": []
  }
 ],
 "metadata": {
  "kernelspec": {
   "display_name": "Python 3 (ipykernel)",
   "language": "python",
   "name": "python3"
  },
  "language_info": {
   "codemirror_mode": {
    "name": "ipython",
    "version": 3
   },
   "file_extension": ".py",
   "mimetype": "text/x-python",
   "name": "python",
   "nbconvert_exporter": "python",
   "pygments_lexer": "ipython3",
   "version": "3.13.3"
  }
 },
 "nbformat": 4,
 "nbformat_minor": 5
}
