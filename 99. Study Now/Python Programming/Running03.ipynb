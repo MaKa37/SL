{
  "nbformat": 4,
  "nbformat_minor": 0,
  "metadata": {
    "colab": {
      "provenance": [],
      "toc_visible": true,
      "authorship_tag": "ABX9TyO76BsuniqsKQF8ReHLpOEo",
      "include_colab_link": true
    },
    "kernelspec": {
      "name": "python3",
      "display_name": "Python 3"
    },
    "language_info": {
      "name": "python"
    }
  },
  "cells": [
    {
      "cell_type": "markdown",
      "metadata": {
        "id": "view-in-github",
        "colab_type": "text"
      },
      "source": [
        "<a href=\"https://colab.research.google.com/github/seonjaechoi0307/Structured-Learning/blob/main/Running03.ipynb\" target=\"_parent\"><img src=\"https://colab.research.google.com/assets/colab-badge.svg\" alt=\"Open In Colab\"/></a>"
      ]
    },
    {
      "cell_type": "markdown",
      "source": [
        "##학습개요\n",
        "현실 세계의 문제를 컴퓨터 프로그램을 통해 해결하기 위해서는 현실 세계의 다양한 데이터 처리 방식을 프로그래밍 과정에서 논리적으로 표현할 방법이 요구된다. 이를 위해 단순히 명령어를 나열하는 순차 처리 방식에서 벗어나 프로그램의 실행 흐름을 간결하고 작은 규모로 조직화하기 쉬운 구조적 프로그래밍 패러다임이 제안되었다. 이번 차시에서는 구조적 프로그래밍 패러다임에 따라 파이썬에서 데이터 처리 흐름을 제어할 수 있는 제어구조인 순차, 선택, 반복 구조의 개념에 대해서 살펴본다. 또한 순차 구조에 따라 프로그래밍하고 실행되는 과정을 print, input 및 데이터 변환 함수를 사용한 다양한 예를 통해 학습한다.\n",
        "\n",
        "##학습목표\n",
        "1. 제어 구조의 종류를 나열할 수 있다.\n",
        "2. 순차 구조의 특징을 설명할 수 있다.\n",
        "3. 프로그래밍 에러의 종류를 설명할 수 있다.\n",
        "\n",
        "##주요용어\n",
        "- 제어구조: 프로그램의 실행 흐름을 결정하는 구조\n",
        "- 순차구조: 실행의 흐름을 주어지는 명령의 위치적 흐름에 따라 수행하는 구조\n",
        "- 프로그래밍 에러: 설계 미숙, 결함 또는 문법 오류로 프로그램이 의도한 대로 결과를 생성하지 못하는 문제 상황\n",
        "- 데이터 타입 변환: 한 데이터의 타입을 다른 데이터 타입으로 전환하는 과정"
      ],
      "metadata": {
        "id": "-rziRw2D2yhS"
      }
    },
    {
      "cell_type": "code",
      "source": [
        "print(\"*\")\n",
        "print(\"***\")\n",
        "print(\"*****\")\n",
        "print(\"*******\")\n",
        "print(\"*********\")"
      ],
      "metadata": {
        "colab": {
          "base_uri": "https://localhost:8080/"
        },
        "id": "eFPwRRCT3D1a",
        "outputId": "08f12050-66d2-4023-dd84-bcc2ffa1b235"
      },
      "execution_count": null,
      "outputs": [
        {
          "output_type": "stream",
          "name": "stdout",
          "text": [
            "*\n",
            "***\n",
            "*****\n",
            "*******\n",
            "*********\n"
          ]
        }
      ]
    },
    {
      "cell_type": "code",
      "source": [
        "print(\"     *\")\n",
        "print(\"    ***\")\n",
        "print(\"   *****\")\n",
        "print(\"  *******\")\n",
        "print(\" *********\")"
      ],
      "metadata": {
        "colab": {
          "base_uri": "https://localhost:8080/"
        },
        "id": "9Eifs4DV78ue",
        "outputId": "da94d773-4bcb-4954-af47-3668d9ba848b"
      },
      "execution_count": null,
      "outputs": [
        {
          "output_type": "stream",
          "name": "stdout",
          "text": [
            "     *\n",
            "    ***\n",
            "   *****\n",
            "  *******\n",
            " *********\n"
          ]
        }
      ]
    },
    {
      "cell_type": "markdown",
      "source": [
        "rad = input()"
      ],
      "metadata": {
        "id": "I2v1eWA_8QRH"
      }
    },
    {
      "cell_type": "code",
      "source": [
        "rad = input()"
      ],
      "metadata": {
        "colab": {
          "base_uri": "https://localhost:8080/"
        },
        "id": "8hpV9e7V8qNV",
        "outputId": "345a8847-7110-4103-8205-bbdaf27c08f3"
      },
      "execution_count": null,
      "outputs": [
        {
          "name": "stdout",
          "output_type": "stream",
          "text": [
            "30\n"
          ]
        }
      ]
    },
    {
      "cell_type": "code",
      "source": [
        "print(rad)"
      ],
      "metadata": {
        "colab": {
          "base_uri": "https://localhost:8080/"
        },
        "id": "QZCSVa-A8niS",
        "outputId": "a48220d1-b6e0-4d9d-84b7-54a1af8e457b"
      },
      "execution_count": null,
      "outputs": [
        {
          "output_type": "stream",
          "name": "stdout",
          "text": [
            "30\n"
          ]
        }
      ]
    },
    {
      "cell_type": "code",
      "source": [
        "rnd = input(\"값을 입력하세요\")"
      ],
      "metadata": {
        "colab": {
          "base_uri": "https://localhost:8080/"
        },
        "id": "O8xFTQFw8tkB",
        "outputId": "a45438f0-b551-455c-9f07-eea930f7ba55"
      },
      "execution_count": null,
      "outputs": [
        {
          "name": "stdout",
          "output_type": "stream",
          "text": [
            "값을 입력하세요25\n"
          ]
        }
      ]
    },
    {
      "cell_type": "code",
      "source": [
        "print(rnd)"
      ],
      "metadata": {
        "colab": {
          "base_uri": "https://localhost:8080/"
        },
        "id": "S_m0dDDw88PP",
        "outputId": "03e4977a-270c-4d04-b687-cad4ce2e34a6"
      },
      "execution_count": null,
      "outputs": [
        {
          "output_type": "stream",
          "name": "stdout",
          "text": [
            "25\n"
          ]
        }
      ]
    },
    {
      "cell_type": "code",
      "source": [
        "#부피 = 1/3 * 파이 * 반지름 ** 2 * 높이\n",
        "#겉넓이 = 파이 * 반지름 ** 2 + 파이 * 반지름 * 높이"
      ],
      "metadata": {
        "id": "pxnOxAPd8-yN"
      },
      "execution_count": null,
      "outputs": []
    },
    {
      "cell_type": "code",
      "source": [
        "#반지름, 높이 값 할당\n",
        "rad = float(input(\"반지름의 값을 입력하세요: \"))\n",
        "hei = float(input(\"높이의 값을 입력하세요: \"))\n",
        "\n",
        "vol = 1/3 * 3.14 * rad * 2 * hei\n",
        "suf = 3.14 * rad ** 2 + 3.14 * rad * hei\n",
        "\n",
        "#부피 & 겉넓이 출력\n",
        "print(\"부피의 값은 \", vol, \"입니다.\", sep=\"\")\n",
        "print(\"겉넓이의 값은 \", suf, \"입니다.\", sep=\"\")"
      ],
      "metadata": {
        "colab": {
          "base_uri": "https://localhost:8080/"
        },
        "id": "1HbbO0Li9XRb",
        "outputId": "4dd6ce8f-1d1a-4d5e-a4c5-717f33edaa55"
      },
      "execution_count": null,
      "outputs": [
        {
          "output_type": "stream",
          "name": "stdout",
          "text": [
            "반지름의 값을 입력하세요: 20\n",
            "높이의 값을 입력하세요: 30\n",
            "부피의 값은 1256.0입니다.\n",
            "겉넓이의 값은 3140.0입니다.\n"
          ]
        }
      ]
    },
    {
      "cell_type": "code",
      "source": [
        "amg = input(\"임시 값을 입력하세요: \")\n",
        "int(amg)"
      ],
      "metadata": {
        "colab": {
          "base_uri": "https://localhost:8080/"
        },
        "id": "lvoihXPrBE6A",
        "outputId": "ea55c0a7-d506-4186-c4d8-a291571e1dcb"
      },
      "execution_count": null,
      "outputs": [
        {
          "name": "stdout",
          "output_type": "stream",
          "text": [
            "임시 값을 입력하세요: 50\n"
          ]
        },
        {
          "output_type": "execute_result",
          "data": {
            "text/plain": [
              "50"
            ]
          },
          "metadata": {},
          "execution_count": 23
        }
      ]
    },
    {
      "cell_type": "code",
      "source": [
        "print(type(amg))"
      ],
      "metadata": {
        "colab": {
          "base_uri": "https://localhost:8080/"
        },
        "id": "1T84VNJTBhrD",
        "outputId": "e21ee9c0-b6e9-4d03-f371-649f7295aa84"
      },
      "execution_count": null,
      "outputs": [
        {
          "output_type": "stream",
          "name": "stdout",
          "text": [
            "<class 'str'>\n"
          ]
        }
      ]
    },
    {
      "cell_type": "code",
      "source": [
        "print(vol, suf, amg)"
      ],
      "metadata": {
        "colab": {
          "base_uri": "https://localhost:8080/"
        },
        "id": "TY5c-wxlBl8Z",
        "outputId": "dd6452dc-deda-4045-950b-2b127716a50e"
      },
      "execution_count": null,
      "outputs": [
        {
          "output_type": "stream",
          "name": "stdout",
          "text": [
            "1256.0 3140.0 50\n"
          ]
        }
      ]
    },
    {
      "cell_type": "markdown",
      "source": [
        "#선택구조\n",
        "\n",
        "##학습개요\n",
        "현실 세계와 동일하게 컴퓨터 프로그램에서도 데이터 처리 과정에서 상황에 따라 특정 명령문의 실행 여부를 선택적으로 결정하기 위한 방법이 필요하다. 또한 현실 세계의 선택적 문제를 보다 세밀하게 표현하기 위한 다양한 구조적 확장이 요구된다. 파이썬에서는 이러한 요구를 표현할 수 있는 명령 구조 및 논리적 연산 체계를 제공한다. 이번 차시에서는 선택적 상황을 표현하기 위한 if, elif, else 명령어와 이를 확장할 할 수 있는 방법을 다양한 예제와 함께 학습한다. 또한 참과 거짓 값만을 갖는 데이터 타입인 불리언 타입과 복수의 불리언식을 결합하기 위한 논리연산자에 대해 알아본다.\n",
        "\n",
        "##학습목표\n",
        "1. 선택 구조를 설명할 수 있다.\n",
        "2. 비교연산자와 논리연산자를 사용하여 불리언식을 작성할 수 있다.\n",
        "\n",
        "##주요용어\n",
        "- 선택 구조: 특정 영역 내의 명령문에 대한 실행 여부를판단에 따라 결정하는 구조\n",
        "- 불리언 타입: 논리값인 참(True)과 거짓(False)의 값만 표현할 수 있는 데이터 타입\n",
        "- 불리언식: 비교연산자를 사용하여 결과가 불리언 타입으로 생성되는 표현식\n",
        "- 논리연산자: 두 개의 논리값(불리언식)을 연산하여 참 또는 거짓을 결과로 얻는 연산자"
      ],
      "metadata": {
        "id": "KrUh04gBDDo1"
      }
    },
    {
      "cell_type": "code",
      "source": [
        "3 > 6"
      ],
      "metadata": {
        "colab": {
          "base_uri": "https://localhost:8080/"
        },
        "id": "w_qZ6Y5kB-Mh",
        "outputId": "a0dfd876-6e62-4ee5-ca41-7f7ff9486073"
      },
      "execution_count": null,
      "outputs": [
        {
          "output_type": "execute_result",
          "data": {
            "text/plain": [
              "False"
            ]
          },
          "metadata": {},
          "execution_count": 1
        }
      ]
    },
    {
      "cell_type": "code",
      "source": [
        " 3 == 6"
      ],
      "metadata": {
        "colab": {
          "base_uri": "https://localhost:8080/"
        },
        "id": "3CiR-jUUIdMH",
        "outputId": "0f587971-b304-4fc9-f2d7-b82596d3c3ad"
      },
      "execution_count": null,
      "outputs": [
        {
          "output_type": "execute_result",
          "data": {
            "text/plain": [
              "False"
            ]
          },
          "metadata": {},
          "execution_count": 2
        }
      ]
    },
    {
      "cell_type": "code",
      "source": [
        "light_on = 3 > 6\n",
        "print(light_on)"
      ],
      "metadata": {
        "colab": {
          "base_uri": "https://localhost:8080/"
        },
        "id": "BH_NuzycIpMt",
        "outputId": "5cb8a4ca-12a7-4381-9d6b-4170010ae7e7"
      },
      "execution_count": null,
      "outputs": [
        {
          "output_type": "stream",
          "name": "stdout",
          "text": [
            "False\n"
          ]
        }
      ]
    },
    {
      "cell_type": "code",
      "source": [
        "suf = 10\n",
        "vol = 20\n",
        "\n",
        "isStop = suf == vol\n",
        "print(isStop)"
      ],
      "metadata": {
        "colab": {
          "base_uri": "https://localhost:8080/"
        },
        "id": "G0wLdIVbI-x_",
        "outputId": "e866d204-6cf4-4c1f-d29a-602a2dd86d19"
      },
      "execution_count": null,
      "outputs": [
        {
          "output_type": "stream",
          "name": "stdout",
          "text": [
            "False\n"
          ]
        }
      ]
    },
    {
      "cell_type": "code",
      "source": [
        "#반지름, 높이 값 할당\n",
        "rad = int(input(\"반지름의 값을 입력하세요: \"))\n",
        "hei = int(input(\"높이의 값을 입력하세요: \"))\n",
        "\n",
        "if rad > 0 :\n",
        "\n",
        "    #부피와 겉넓이 계산\n",
        "    vol = 1/3 * 3.14 * rad * 2 * hei\n",
        "    suf = 3.14 * rad ** 2 + 3.14 * rad * hei\n",
        "\n",
        "    #부피 & 겉넓이 출력\n",
        "    print(\"부피의 값은 \", vol, \"입니다.\", sep=\"\")\n",
        "    print(\"겉넓이의 값은 \", suf, \"입니다.\", sep=\"\")"
      ],
      "metadata": {
        "colab": {
          "base_uri": "https://localhost:8080/"
        },
        "id": "zbTyzYa9JHgf",
        "outputId": "f7b0b4f7-f01c-40e6-d5cc-159f9e47ed0a"
      },
      "execution_count": null,
      "outputs": [
        {
          "name": "stdout",
          "output_type": "stream",
          "text": [
            "반지름의 값을 입력하세요: -20\n",
            "높이의 값을 입력하세요: 30\n"
          ]
        }
      ]
    },
    {
      "cell_type": "code",
      "source": [
        "temp = 20\n",
        "fruit = \"apple\"\n",
        "\n",
        "print(temp >= 20 and fruit == \"pear\")\n",
        "print(temp >= 20 or fruit == \"pear\")\n",
        "print(not temp >= 27)\n",
        "print(not temp >= 11)"
      ],
      "metadata": {
        "colab": {
          "base_uri": "https://localhost:8080/"
        },
        "id": "y1zCDy9sJr24",
        "outputId": "82be6b39-ca8f-4feb-b16f-836085571b56"
      },
      "execution_count": null,
      "outputs": [
        {
          "output_type": "stream",
          "name": "stdout",
          "text": [
            "False\n",
            "True\n",
            "True\n",
            "False\n"
          ]
        }
      ]
    },
    {
      "cell_type": "code",
      "source": [
        "#반지름, 높이 값 할당\n",
        "rad = int(input(\"반지름의 값을 입력하세요: \"))\n",
        "hei = int(input(\"높이의 값을 입력하세요: \"))\n",
        "\n",
        "if rad > 0 and hei > 0 :\n",
        "\n",
        "    #부피와 겉넓이 계산\n",
        "    vol = 1/3 * 3.14 * rad * 2 * hei\n",
        "    suf = 3.14 * rad ** 2 + 3.14 * rad * hei\n",
        "\n",
        "    #부피 & 겉넓이 출력\n",
        "    print(\"부피의 값은 \", vol, \"입니다.\", sep=\"\")\n",
        "    print(\"겉넓이의 값은 \", suf, \"입니다.\", sep=\"\")"
      ],
      "metadata": {
        "colab": {
          "base_uri": "https://localhost:8080/"
        },
        "id": "yByAINiDKiz4",
        "outputId": "e81ca0b0-0b78-48b9-d93c-253db1470ff5"
      },
      "execution_count": null,
      "outputs": [
        {
          "name": "stdout",
          "output_type": "stream",
          "text": [
            "반지름의 값을 입력하세요: -20\n",
            "높이의 값을 입력하세요: 30\n"
          ]
        }
      ]
    },
    {
      "cell_type": "code",
      "source": [
        "#반지름, 높이 값 할당\n",
        "rad = int(input(\"반지름의 값을 입력하세요: \"))\n",
        "hei = int(input(\"높이의 값을 입력하세요: \"))\n",
        "\n",
        "if rad > 0 and hei > 0 :\n",
        "\n",
        "    #부피와 겉넓이 계산\n",
        "    vol = 1/3 * 3.14 * rad * 2 * hei\n",
        "    suf = 3.14 * rad ** 2 + 3.14 * rad * hei\n",
        "\n",
        "    #부피 & 겉넓이 출력\n",
        "    print(\"부피의 값은 \", vol, \"입니다.\", sep=\"\")\n",
        "    print(\"겉넓이의 값은 \", suf, \"입니다.\", sep=\"\")\n",
        "\n",
        "else :\n",
        "    print(\"반지름과 높이 값을 양수로 입력 해주세요.\")"
      ],
      "metadata": {
        "colab": {
          "base_uri": "https://localhost:8080/"
        },
        "id": "SY20IKMhNzz-",
        "outputId": "1b60dca1-801a-40be-899c-7e9daf423ac8"
      },
      "execution_count": null,
      "outputs": [
        {
          "output_type": "stream",
          "name": "stdout",
          "text": [
            "반지름의 값을 입력하세요: -20\n",
            "높이의 값을 입력하세요: 30\n",
            "반지름과 높이 값을 양수로 입력 해주세요.\n"
          ]
        }
      ]
    },
    {
      "cell_type": "markdown",
      "source": [
        "## 가장 큰 수를 찾는 프로그램"
      ],
      "metadata": {
        "id": "ysi-LBu8PheU"
      }
    },
    {
      "cell_type": "code",
      "source": [
        "# A, B, C 사용자 입력\n",
        "\n",
        "A = int(input(\"정수 값을 입력 :\"))\n",
        "B = int(input(\"정수 값을 입력 :\"))\n",
        "C = int(input(\"정수 값을 입력 :\"))\n",
        "\n",
        "# A, B, C 값 비교하여 가장 큰 값 출력: max 함수 활용\n",
        "print(\"max 함수 비교 값 :\", max(A, B, C))\n",
        "\n",
        "# A, B, C 값 비교하여 가장 큰 값 출력: 조건문 비교\n",
        "if A > B :\n",
        "    if A > C :\n",
        "        print(\"if 비교 값 :\", A)\n",
        "    else :\n",
        "        print(\"if 비교 값 :\", C)\n",
        "else :\n",
        "    if B > C :\n",
        "        print(\"if 비교 값 :\", B)\n",
        "    else :\n",
        "        print(\"if 비교 값 :\", C)"
      ],
      "metadata": {
        "colab": {
          "base_uri": "https://localhost:8080/"
        },
        "id": "gXAw7oyLRMCN",
        "outputId": "ae9e4fbe-8efc-4182-9dee-91d98398d887"
      },
      "execution_count": null,
      "outputs": [
        {
          "output_type": "stream",
          "name": "stdout",
          "text": [
            "정수 값을 입력 :19\n",
            "정수 값을 입력 :10\n",
            "정수 값을 입력 :17\n",
            "max 함수 비교 값 : 19\n",
            "if 비교 값 : 19\n"
          ]
        }
      ]
    },
    {
      "cell_type": "markdown",
      "source": [
        "# 반복구조\n",
        "\n",
        "##학습개요\n",
        "목적을 수행하기 위한 작업처리 과정에 동일한 프로그램 코드를 여러 번 반복해서 작성해야 한다면 프로그래밍 과정은 지루하고 비효율적일 수 밖에 없다. 프로그래밍 언어는 이러한 과정을 추상화하고 반복해야 하는 상황을 표현하여 조건에 일치하는 동안 또는 지정된 횟수 만큼 프로그램 코드를 반복할 수 있는 제어 구조를 제공한다. 파이썬은 현실 세계의 반복적 상황을 보다 세밀하게 표현하기 위한 조건 제어 반복과 계수 제어 반복 방법을 제공한다. 이번 차시에서는 반복 구조의 개념과 필요성에 대한 이해를 바탕으로 조건 제어 및 계수 제어 반복에 사용되는 while 문과 for 문에 대해 학습한다. 또한 반복 구조에 동반되는 리스트 및 시퀀스의 개념에 대해 학습하고 이를 for 문에 적용하는 방법에 대해 알아본다.\n",
        "\n",
        "##학습목표\n",
        "1. 반복 구조의 개념과 필요성을 설명할 수 있다.\n",
        "2. 반복 구조 설계 전략을 통해 반복문을 작성할 수 있다.\n",
        "3. 리스트의 개념에 대해 설명할 수 있다.\n",
        "\n",
        "##주요용어\n",
        "- 조건 제어 반복: 참과 거짓 조건에 의해 반복 여부가 결정되는 반복 구조\n",
        "- 계수 제어 반복: 특정 계수만큼 반복 횟수가 정해진 반복 구조\n",
        "- 인덱스 연산자: 시퀀스 타입의 원소에 접근하는 연산자\n",
        "- 중첩 반복 구조: 반복 구조 내 다른 반복 구조를 내포한 형식"
      ],
      "metadata": {
        "id": "BIJMiNx7R9Be"
      }
    },
    {
      "cell_type": "code",
      "source": [
        "RND = input(\"활성화 용도: \")"
      ],
      "metadata": {
        "colab": {
          "base_uri": "https://localhost:8080/"
        },
        "id": "elyBFBUgWEwR",
        "outputId": "b0b5c81d-b264-4fef-ddf8-c3e07e06af64"
      },
      "execution_count": null,
      "outputs": [
        {
          "name": "stdout",
          "output_type": "stream",
          "text": [
            "활성화 용도: .\n"
          ]
        }
      ]
    },
    {
      "cell_type": "code",
      "source": [
        "num = int(input(\"어디까지 더할까요? : \"))\n",
        "\n",
        "sum = 0\n",
        "i = 1\n",
        "\n",
        "while i <= num :\n",
        "    sum = sum + i\n",
        "    i = i + 1\n",
        "\n",
        "print(sum)\n"
      ],
      "metadata": {
        "colab": {
          "base_uri": "https://localhost:8080/"
        },
        "id": "Vxms-rPQcMrz",
        "outputId": "634c3f54-e288-49c9-90d7-4abeadbf3480"
      },
      "execution_count": null,
      "outputs": [
        {
          "output_type": "stream",
          "name": "stdout",
          "text": [
            "어디까지 더할까요? : 10\n",
            "55\n"
          ]
        }
      ]
    },
    {
      "cell_type": "code",
      "source": [
        "base = int(input(\"출력할 단을 입력하세요. : \"))\n",
        "\n",
        "i = 1\n",
        "\n",
        "while i <= 9 :\n",
        "    print(base, \"X\", i, \"=\", base * i)\n",
        "    i = i + 1"
      ],
      "metadata": {
        "colab": {
          "base_uri": "https://localhost:8080/"
        },
        "id": "F3zDsG6pWL2Y",
        "outputId": "a8775a97-349a-4cce-e4ed-1e35b00c3e07"
      },
      "execution_count": null,
      "outputs": [
        {
          "output_type": "stream",
          "name": "stdout",
          "text": [
            "출력할 단을 입력하세요. : 9\n",
            "9 X 1 = 9\n",
            "9 X 2 = 18\n",
            "9 X 3 = 27\n",
            "9 X 4 = 36\n",
            "9 X 5 = 45\n",
            "9 X 6 = 54\n",
            "9 X 7 = 63\n",
            "9 X 8 = 72\n",
            "9 X 9 = 81\n"
          ]
        }
      ]
    },
    {
      "cell_type": "markdown",
      "source": [
        "#리스트"
      ],
      "metadata": {
        "id": "7zU46BlTdQgO"
      }
    },
    {
      "cell_type": "code",
      "source": [
        "# 반지름은 10이고 높이가 1, 4, 14, 26, 31인 원뿔의 부피와 겉넓이를 각각 출력하시오.\n",
        "\n",
        "hei_list = [1, 4, 14, 26, 31]\n",
        "rad = 10\n",
        "\n",
        "for hei in hei_list :\n",
        "    print(\"반지름 :\", rad, \"높이 :\",hei)\n",
        "\n",
        "    #부피 출력\n",
        "    vol = 1 / 3 * 3.14 * rad ** 2 * hei\n",
        "    print(\"부피 :\", vol)\n",
        "\n",
        "    #겉넓이 출력\n",
        "    suf = 3.14 * rad ** 2 + 3.14 * rad * hei\n",
        "    print(\"겉넓이 :\", suf)"
      ],
      "metadata": {
        "id": "CfxVSvdWhPd_"
      },
      "execution_count": null,
      "outputs": []
    },
    {
      "cell_type": "code",
      "source": [
        "# 반지름은 10이고 높이가 1, 4, 14, 26, 31인 원뿔의 부피와 겉넓이를 각각 출력하시오.\n",
        "\n",
        "hei_list = [1, 4, 14, 26, 31]\n",
        "\n",
        "for hei in hei_list :\n",
        "    print(hei)"
      ],
      "metadata": {
        "colab": {
          "base_uri": "https://localhost:8080/"
        },
        "id": "3BhOS6EtdjMN",
        "outputId": "dfa247d0-1850-4f61-9bd7-9bac6fc23f93"
      },
      "execution_count": null,
      "outputs": [
        {
          "output_type": "stream",
          "name": "stdout",
          "text": [
            "1\n",
            "4\n",
            "14\n",
            "26\n",
            "31\n"
          ]
        }
      ]
    },
    {
      "cell_type": "code",
      "source": [
        "msg = \"Hi Python\"\n",
        "\n",
        "for i in range(0, 5) :\n",
        "    print(msg)"
      ],
      "metadata": {
        "colab": {
          "base_uri": "https://localhost:8080/"
        },
        "id": "o_wE9IxMj2GB",
        "outputId": "849d4994-2fed-4865-abf8-f1d41d28fc52"
      },
      "execution_count": null,
      "outputs": [
        {
          "output_type": "stream",
          "name": "stdout",
          "text": [
            "Hi Python\n",
            "Hi Python\n",
            "Hi Python\n",
            "Hi Python\n",
            "Hi Python\n"
          ]
        }
      ]
    },
    {
      "cell_type": "code",
      "source": [
        "# 반지름 높이가 (10, 1), (20, 5), (30, 14)인 원뿔의 부피와 겉넓이를 출력하시오.\n",
        "\n",
        "rad_list = range(10, 31, 10)\n",
        "hei_list = [1, 5 ,14]\n",
        "\n",
        "for rad, hei in zip(rad_list, hei_list) :\n",
        "    print(\"반지름 :\", rad, \"높이 :\",hei)\n",
        "\n",
        "    #부피 출력\n",
        "    vol = 1 / 3 * 3.14 * rad ** 2 * hei\n",
        "    print(\"부피 :\", vol)\n",
        "\n",
        "    #겉넓이 출력\n",
        "    suf = 3.14 * rad ** 2 + 3.14 * rad * hei\n",
        "    print(\"겉넓이 :\", suf)"
      ],
      "metadata": {
        "colab": {
          "base_uri": "https://localhost:8080/"
        },
        "id": "f67_dV2Eh4tJ",
        "outputId": "c12e8e2c-26e5-4d51-a0ac-b1f72f3ed085"
      },
      "execution_count": null,
      "outputs": [
        {
          "output_type": "stream",
          "name": "stdout",
          "text": [
            "반지름 : 10 높이 : 1\n",
            "부피 : 104.66666666666666\n",
            "겉넓이 : 345.4\n",
            "반지름 : 20 높이 : 5\n",
            "부피 : 2093.333333333333\n",
            "겉넓이 : 1570.0\n",
            "반지름 : 30 높이 : 14\n",
            "부피 : 13188.0\n",
            "겉넓이 : 4144.8\n"
          ]
        }
      ]
    },
    {
      "cell_type": "code",
      "source": [
        "#구구단 표 출력\n",
        "\n",
        "for i in range(1, 10) :\n",
        "    for j in range(1, 10) :\n",
        "        print(i, \"X\", j, \"=\", i*j)"
      ],
      "metadata": {
        "colab": {
          "base_uri": "https://localhost:8080/"
        },
        "collapsed": true,
        "id": "CgA2BYQTks2N",
        "outputId": "8c6a9ba1-7dd6-4ac6-995d-7e7cf0f4befd"
      },
      "execution_count": null,
      "outputs": [
        {
          "output_type": "stream",
          "name": "stdout",
          "text": [
            "1 X 1 = 1\n",
            "1 X 2 = 2\n",
            "1 X 3 = 3\n",
            "1 X 4 = 4\n",
            "1 X 5 = 5\n",
            "1 X 6 = 6\n",
            "1 X 7 = 7\n",
            "1 X 8 = 8\n",
            "1 X 9 = 9\n",
            "2 X 1 = 2\n",
            "2 X 2 = 4\n",
            "2 X 3 = 6\n",
            "2 X 4 = 8\n",
            "2 X 5 = 10\n",
            "2 X 6 = 12\n",
            "2 X 7 = 14\n",
            "2 X 8 = 16\n",
            "2 X 9 = 18\n",
            "3 X 1 = 3\n",
            "3 X 2 = 6\n",
            "3 X 3 = 9\n",
            "3 X 4 = 12\n",
            "3 X 5 = 15\n",
            "3 X 6 = 18\n",
            "3 X 7 = 21\n",
            "3 X 8 = 24\n",
            "3 X 9 = 27\n",
            "4 X 1 = 4\n",
            "4 X 2 = 8\n",
            "4 X 3 = 12\n",
            "4 X 4 = 16\n",
            "4 X 5 = 20\n",
            "4 X 6 = 24\n",
            "4 X 7 = 28\n",
            "4 X 8 = 32\n",
            "4 X 9 = 36\n",
            "5 X 1 = 5\n",
            "5 X 2 = 10\n",
            "5 X 3 = 15\n",
            "5 X 4 = 20\n",
            "5 X 5 = 25\n",
            "5 X 6 = 30\n",
            "5 X 7 = 35\n",
            "5 X 8 = 40\n",
            "5 X 9 = 45\n",
            "6 X 1 = 6\n",
            "6 X 2 = 12\n",
            "6 X 3 = 18\n",
            "6 X 4 = 24\n",
            "6 X 5 = 30\n",
            "6 X 6 = 36\n",
            "6 X 7 = 42\n",
            "6 X 8 = 48\n",
            "6 X 9 = 54\n",
            "7 X 1 = 7\n",
            "7 X 2 = 14\n",
            "7 X 3 = 21\n",
            "7 X 4 = 28\n",
            "7 X 5 = 35\n",
            "7 X 6 = 42\n",
            "7 X 7 = 49\n",
            "7 X 8 = 56\n",
            "7 X 9 = 63\n",
            "8 X 1 = 8\n",
            "8 X 2 = 16\n",
            "8 X 3 = 24\n",
            "8 X 4 = 32\n",
            "8 X 5 = 40\n",
            "8 X 6 = 48\n",
            "8 X 7 = 56\n",
            "8 X 8 = 64\n",
            "8 X 9 = 72\n",
            "9 X 1 = 9\n",
            "9 X 2 = 18\n",
            "9 X 3 = 27\n",
            "9 X 4 = 36\n",
            "9 X 5 = 45\n",
            "9 X 6 = 54\n",
            "9 X 7 = 63\n",
            "9 X 8 = 72\n",
            "9 X 9 = 81\n"
          ]
        }
      ]
    },
    {
      "cell_type": "code",
      "source": [
        "#구구단 표 출력\n",
        "\n",
        "print(format(\"구구단표\", \">20s\"))\n",
        "\n",
        "# 표 머리 출력\n",
        "print(\"  ㅣ\", end = \"\")\n",
        "for j in range(1, 10) :\n",
        "    print(\" \", j, end = \"\")\n",
        "\n",
        "print()\n",
        "print(\"---------------------------------\")\n",
        "\n",
        "for i in range(1, 10) :\n",
        "    print(i, \"ㅣ\", end = \"\")\n",
        "\n",
        "    for j in range(1, 10) :\n",
        "        print(format(i * j, \">3d\"), end = \"\")\n",
        "\n",
        "    print()"
      ],
      "metadata": {
        "colab": {
          "base_uri": "https://localhost:8080/"
        },
        "id": "GGEDlFrdk9da",
        "outputId": "5260f7e3-52c1-4fde-a69e-6a77d72edcd3"
      },
      "execution_count": null,
      "outputs": [
        {
          "output_type": "stream",
          "name": "stdout",
          "text": [
            "                구구단표\n",
            "  ㅣ  1  2  3  4  5  6  7  8  9\n",
            "---------------------------------\n",
            "1 ㅣ  1  2  3  4  5  6  7  8  9\n",
            "2 ㅣ  2  4  6  8 10 12 14 16 18\n",
            "3 ㅣ  3  6  9 12 15 18 21 24 27\n",
            "4 ㅣ  4  8 12 16 20 24 28 32 36\n",
            "5 ㅣ  5 10 15 20 25 30 35 40 45\n",
            "6 ㅣ  6 12 18 24 30 36 42 48 54\n",
            "7 ㅣ  7 14 21 28 35 42 49 56 63\n",
            "8 ㅣ  8 16 24 32 40 48 56 64 72\n",
            "9 ㅣ  9 18 27 36 45 54 63 72 81\n"
          ]
        }
      ]
    },
    {
      "cell_type": "markdown",
      "source": [
        "#8강. 체크포인트\n",
        "\n",
        "##학습개요\n",
        "독일 심리학자 헤르만 에빙하우스의 ‘기억에 관하여’ 이론에 따르면 학생 내용에 대한 시간에 따른 기억률은 ((첫 번째 학습에 소요된 시간-복습에 소요된 시간)/(첫 번째 학습에 소요된 시간))×100로 계산된다. 즉, 학습 후에 재학습이 동반되지 않는 경우 1시간, 하루, 일주일, 한 달 후 각각 44%, 33%, 25%, 21% 밖에 학습 내용이 남지 않는다. 즉 지속적인 재학습(복습)이 동반될 필요가 있다. 이번 장에서는 컴퓨터의 개념적 동작 과정, 파이썬의 특장점, 파이썬 프로그래밍 기법 등 1 ~ 7강까지 학습한 내용에 대한 20 여개의 객관식 문제를 해결한다. 이를 통해 학습 내용을 복습하고 재학습이 필요한 내용을 파악하여 기말시험에 대비한다.\n",
        "\n",
        "##학습목표\n",
        "1. 컴퓨터의 하드웨어적 및 소프트웨어적 동작 과정을 설명할 수 있다.\n",
        "2. 파이썬의 특장점에 대해 설명할 수 있다.\n",
        "3. 파이썬으로 구조적 프로그래밍 패러다임에 따라 프로그래밍 할 수 있다."
      ],
      "metadata": {
        "id": "cscyJQ6UTQmC"
      }
    },
    {
      "cell_type": "markdown",
      "source": [
        "#9강. 함수\n",
        "\n",
        "##학습개요\n",
        "반복 구조를 통해 여러 번 반복되는 데이터 처리 과정을 단순화할 수 있다 하더라도 불규칙적으로 발생하거나 반복되는 환경이 조금씩 달라지는 경우 반복 구조를 적용하기가 불가능해지는 한계가 있다. 따라서 파이썬에서는 특정 작업을 수행하는 명령문의 집합을 식별자로 대체하여 여러 차례 호출하여 사용할 수 있는 사용자 정의 함수가 제공된다. 이번 장에서는 함수의 개념과 필요성에 대한 이해를 바탕으로 반환값이 있는 함수와 반환값이 없는 함수, 그리고 함수를 보다 폭넓게 적용하기 위해 다양한 사용자 함수 정의 방법에 대해 학습한다.\n",
        "\n",
        "##학습목표\n",
        "1. 함수의 개념에 대해 설명할 수 있다.\n",
        "2. 반환값이 없는 함수와 반환값이 있는 함수의 차이점을 설명할 수 있다.\n",
        "3. 변수가 참조될 수 있는 영역을 파악할 수 있다.\n",
        "\n",
        "##주요용어\n",
        "- 동시 할당: 복수 개의 변수에 값을 동시에 할당하는 명령\n",
        "- 스코프: 프로그램에서 변수가 참조될 수 있는 영역\n",
        "- 기본 매개변수: 함수 호출 시 매개변수가 전달되지 않을 경우 기본값이 전달되는 매개변수\n",
        "- 가변 매개변수: 함수 호출 시 매개변수를 사용자가 원하는 개수 만큼 지정할 수 있는 매개변수"
      ],
      "metadata": {
        "id": "GBX5MKUcnWXP"
      }
    },
    {
      "cell_type": "code",
      "source": [
        "# 부피 계산\n",
        "# vol = 1 / 3 * 3.14 * rad ** 2 * hei\n",
        "\n",
        "# 겉넓이 계산\n",
        "# suf = 3.14 * rad ** 2 + 3.14 * rad * hei\n",
        "\n",
        "def prt_cone_vol(r, h) :\n",
        "\n",
        "    if r > 0 and h > 0 :\n",
        "\n",
        "        # 반지름과 높이가 양수일 경우\n",
        "        vol = 1 / 3 * 3.14 * r ** 2 * h\n",
        "        print(\"부피의 값은 \", vol, \" 입니다.\")\n",
        "\n",
        "    else :\n",
        "        # 반지름과 높이가 음수일 경우\n",
        "        print(\"반지름의 값과 높이의 값을 양수로 입력 해주세요.\")"
      ],
      "metadata": {
        "id": "HhbFPQitw7Ht"
      },
      "execution_count": null,
      "outputs": []
    },
    {
      "cell_type": "code",
      "source": [
        "radius = 20\n",
        "height = 30\n",
        "\n",
        "prt_cone_vol(radius, height)"
      ],
      "metadata": {
        "colab": {
          "base_uri": "https://localhost:8080/"
        },
        "id": "EbNuxhqfw7Zl",
        "outputId": "d7bb303b-3973-44cd-aa29-69d389abe0c7"
      },
      "execution_count": null,
      "outputs": [
        {
          "output_type": "stream",
          "name": "stdout",
          "text": [
            "부피의 값은  12559.999999999998  입니다.\n"
          ]
        }
      ]
    },
    {
      "cell_type": "code",
      "source": [
        "#숫자를 입력받고 역순으로 값을 되돌려주는 함수\n",
        "\n",
        "num = 1234\n",
        "digits = 123456789\n",
        "\n",
        "# digit4 = num % 10\n",
        "# digit3 = num // 10\n",
        "\n",
        "# print(digit4)\n",
        "# print(digit3)\n",
        "\n",
        "\n",
        "def reverse_number(num) :\n",
        "    while num != 0 :\n",
        "        digit = num % 10\n",
        "        num = num // 10\n",
        "        print(digit, end=\"\")\n",
        "\n",
        "reverse_number(num)"
      ],
      "metadata": {
        "colab": {
          "base_uri": "https://localhost:8080/"
        },
        "id": "uXZp3iNX4nqk",
        "outputId": "83ff3d35-7121-4643-92b2-cb5d5fcd5b8d"
      },
      "execution_count": null,
      "outputs": [
        {
          "output_type": "stream",
          "name": "stdout",
          "text": [
            "4321"
          ]
        }
      ]
    },
    {
      "cell_type": "code",
      "source": [
        "reverse_number(digits)"
      ],
      "metadata": {
        "colab": {
          "base_uri": "https://localhost:8080/"
        },
        "id": "6L6FvGyH5Clv",
        "outputId": "3f6a3401-fa83-41a3-8810-6b82dbef03df"
      },
      "execution_count": null,
      "outputs": [
        {
          "output_type": "stream",
          "name": "stdout",
          "text": [
            "987654321"
          ]
        }
      ]
    },
    {
      "cell_type": "code",
      "source": [
        "def rtn_cone_vol(r, h) :\n",
        "\n",
        "    if r > 0 and h > 0 :\n",
        "        vol = 1 / 3 * 3.14 * r ** 2 * h\n",
        "        return vol\n",
        "    else :\n",
        "        print(\"반지름의 값과 높이의 값을 양수로 입력 해주세요.\")"
      ],
      "metadata": {
        "id": "Ax3GyuHF6gFG"
      },
      "execution_count": null,
      "outputs": []
    },
    {
      "cell_type": "code",
      "source": [
        "print(format(rtn_cone_vol(10, 20), \">20.3f\"), \"입니다.\")"
      ],
      "metadata": {
        "colab": {
          "base_uri": "https://localhost:8080/"
        },
        "id": "7vlzh9b38rSt",
        "outputId": "6164ee56-fd27-48ca-f6c7-e63c5f6e945d"
      },
      "execution_count": null,
      "outputs": [
        {
          "output_type": "stream",
          "name": "stdout",
          "text": [
            "            2093.333 입니다.\n"
          ]
        }
      ]
    },
    {
      "cell_type": "code",
      "source": [
        "print(format(rtn_cone_vol(10, 20), \"<20.3f\"), \"입니다.\")"
      ],
      "metadata": {
        "colab": {
          "base_uri": "https://localhost:8080/"
        },
        "id": "cMFJCcDm84PU",
        "outputId": "15dd4911-9e3a-43f1-c4d9-0577f7078853"
      },
      "execution_count": null,
      "outputs": [
        {
          "output_type": "stream",
          "name": "stdout",
          "text": [
            "2093.333             입니다.\n"
          ]
        }
      ]
    },
    {
      "cell_type": "code",
      "source": [
        "def rtn_cone_vol_surf(r, h) :\n",
        "\n",
        "    if r > 0 and h > 0 :\n",
        "\n",
        "        vol = 1 / 3 * 3.14 * r ** 2 * h\n",
        "        surf = 3.14 * r ** 2 + 3.14 * r * h\n",
        "        return vol, surf\n",
        "\n",
        "    else :\n",
        "        print(\"반지름의 값과 높이의 값을 양수로 입력 해주세요.\")"
      ],
      "metadata": {
        "id": "0frV3BUz8-oY"
      },
      "execution_count": null,
      "outputs": []
    },
    {
      "cell_type": "code",
      "source": [
        "print(rtn_cone_vol_surf(50, 100))"
      ],
      "metadata": {
        "colab": {
          "base_uri": "https://localhost:8080/"
        },
        "id": "SiIb66RY-95P",
        "outputId": "8afdbfc4-2300-4fe0-eb66-d7909533ea01"
      },
      "execution_count": null,
      "outputs": [
        {
          "output_type": "stream",
          "name": "stdout",
          "text": [
            "(261666.66666666666, 23550.0)\n"
          ]
        }
      ]
    },
    {
      "cell_type": "code",
      "source": [
        "vol1, surf1 = rtn_cone_vol_surf(50, 100)\n",
        "print(vol1, surf1)"
      ],
      "metadata": {
        "colab": {
          "base_uri": "https://localhost:8080/"
        },
        "id": "Tugc9TsW_ICc",
        "outputId": "0f49538b-c5f0-4496-8a34-6f26fbace1e7"
      },
      "execution_count": null,
      "outputs": [
        {
          "output_type": "stream",
          "name": "stdout",
          "text": [
            "261666.66666666666 23550.0\n"
          ]
        }
      ]
    },
    {
      "cell_type": "code",
      "source": [
        "print(format(vol1, \">20.3f\"), \"입니다.\")\n",
        "print(format(surf1, \">20.3f\"), \"입니다.\")"
      ],
      "metadata": {
        "colab": {
          "base_uri": "https://localhost:8080/"
        },
        "id": "eUTudtDB_Y_x",
        "outputId": "a35b075a-259d-440d-e610-da260c85fab0"
      },
      "execution_count": null,
      "outputs": [
        {
          "output_type": "stream",
          "name": "stdout",
          "text": [
            "          261666.667 입니다.\n",
            "           23550.000 입니다.\n"
          ]
        }
      ]
    },
    {
      "cell_type": "code",
      "source": [
        "#세 개의 사용자 입력 값을 받아 오름차순으로 정렬하는 함수를 만들어 정렬된 값을 출력하시오\n",
        "\n",
        "a = int(input(\"첫 번째 값을 입력하세요.\"))\n",
        "b = int(input(\"두 번째 값을 입력하세요.\"))\n",
        "c = int(input(\"세 번째 값을 입력하세요.\"))\n",
        "\n",
        "def sort3(a, b, c) :\n",
        "    if a > b :\n",
        "        a, b = b, a\n",
        "\n",
        "    elif a > c :\n",
        "        a, c = c, a\n",
        "\n",
        "    elif b > c :\n",
        "        b, c = c, b\n",
        "\n",
        "    print(a, b, c)\n",
        "\n",
        "sort3(a, b, c)\n",
        "print(\"출력이후 \", a, b, c)"
      ],
      "metadata": {
        "colab": {
          "base_uri": "https://localhost:8080/"
        },
        "id": "57PBRzu5_gvw",
        "outputId": "1cd9fbcb-3b4c-48d8-a5dd-4dfd01d32841"
      },
      "execution_count": null,
      "outputs": [
        {
          "output_type": "stream",
          "name": "stdout",
          "text": [
            "첫 번째 값을 입력하세요.34\n",
            "두 번째 값을 입력하세요.12\n",
            "세 번째 값을 입력하세요.100\n",
            "12 34 100\n",
            "출력이후  34 12 100\n"
          ]
        }
      ]
    },
    {
      "cell_type": "code",
      "source": [
        "#전역변수\n",
        "\n",
        "a = 1\n",
        "y = 0\n",
        "\n",
        "def arara() :\n",
        "    y = a + 1\n",
        "    print(y)\n",
        "\n",
        "arara()\n"
      ],
      "metadata": {
        "colab": {
          "base_uri": "https://localhost:8080/"
        },
        "id": "Osf1ZF5kAzUJ",
        "outputId": "5c0952c0-426c-4992-d7d6-c7f181bb145e"
      },
      "execution_count": null,
      "outputs": [
        {
          "output_type": "stream",
          "name": "stdout",
          "text": [
            "2\n"
          ]
        }
      ]
    },
    {
      "cell_type": "code",
      "source": [
        "def rtn_cone_vol_surf(r, h) :\n",
        "\n",
        "    if r > 0 and h > 0 :\n",
        "\n",
        "        vol = 1 / 3 * 3.14 * r ** 2 * h\n",
        "        surf = 3.14 * r ** 2 + 3.14 * r * h\n",
        "        r, h = 0, 0\n",
        "        return vol\n",
        "\n",
        "    else :\n",
        "        print(\"반지름의 값과 높이의 값을 양수로 입력 해주세요.\")\n",
        "\n",
        "r = 50\n",
        "h = 100\n",
        "print(format(rtn_cone_vol_surf(radius, height), \">10.3f\"))\n",
        "print(\"함수 사용 후: \", r, h)"
      ],
      "metadata": {
        "colab": {
          "base_uri": "https://localhost:8080/"
        },
        "id": "JGoFX1z7Dciw",
        "outputId": "1c917a1a-ea64-4c27-b230-b317b20ccbbb"
      },
      "execution_count": null,
      "outputs": [
        {
          "output_type": "stream",
          "name": "stdout",
          "text": [
            "261666.667\n",
            "함수 사용 후:  50 100\n"
          ]
        }
      ]
    },
    {
      "cell_type": "code",
      "source": [
        "print(h)"
      ],
      "metadata": {
        "colab": {
          "base_uri": "https://localhost:8080/"
        },
        "id": "E95Y6W3sFeg2",
        "outputId": "7f7887b8-a3d6-4a4d-803a-6a429d0e95b6"
      },
      "execution_count": null,
      "outputs": [
        {
          "output_type": "stream",
          "name": "stdout",
          "text": [
            "[5, 10, 11, 12]\n"
          ]
        }
      ]
    },
    {
      "cell_type": "code",
      "source": [
        "#변수의 스코프\n",
        "\n",
        "x = 1\n",
        "print(\"x의 값은 \", x)\n",
        "\n",
        "def inc(x) :\n",
        "    x = x + 1\n",
        "    print(\"x의 값은 \", x)\n",
        "\n",
        "inc(x)\n",
        "print(\"x의 값은 \", x)"
      ],
      "metadata": {
        "colab": {
          "base_uri": "https://localhost:8080/"
        },
        "id": "TRoHEXeNFfmD",
        "outputId": "a14a5c61-146f-40a2-af25-74f5ff8089c4"
      },
      "execution_count": null,
      "outputs": [
        {
          "output_type": "stream",
          "name": "stdout",
          "text": [
            "x의 값은  1\n",
            "x의 값은  2\n",
            "x의 값은  1\n"
          ]
        }
      ]
    },
    {
      "cell_type": "code",
      "source": [
        "def rtn_cone_vol_surf(r = 20, h = 30) :\n",
        "\n",
        "    if r > 0 and h > 0 :\n",
        "        return 1 / 3 * 3.14 * r ** 2 * h, 3.14 * r ** 2 + 3.14 * r * h\n",
        "\n",
        "    else :\n",
        "        print(\"반지름의 값과 높이의 값을 양수로 입력 해주세요.\")\n",
        "\n",
        "print(rtn_cone_vol_surf())"
      ],
      "metadata": {
        "colab": {
          "base_uri": "https://localhost:8080/"
        },
        "id": "aRX6i2r7IKcQ",
        "outputId": "7b698d04-c34d-4635-ff88-83563478c364"
      },
      "execution_count": null,
      "outputs": [
        {
          "output_type": "stream",
          "name": "stdout",
          "text": [
            "(12559.999999999998, 3140.0)\n"
          ]
        }
      ]
    },
    {
      "cell_type": "code",
      "source": [
        "#여러개의 수를 입력받고 합과 평균을 반환하는 var_sum_avg 함수를 사용하여 (20, 25, 10, 85, 100, 150)의 합과 평균을 출력하는 프로그램을 작성하시오.\n",
        "\n",
        "def var_sum_avg(*numbers) :\n",
        "    sum = 0\n",
        "    count = 0\n",
        "\n",
        "    for i in numbers :\n",
        "        sum = sum + i\n",
        "        count = count + 1\n",
        "\n",
        "    return sum, sum / count\n",
        "\n",
        "print(var_sum_avg(20, 25, 10, 85, 100, 150))"
      ],
      "metadata": {
        "colab": {
          "base_uri": "https://localhost:8080/"
        },
        "id": "uuF0sm8jI-Qx",
        "outputId": "129c07d6-5e30-40cf-a504-3a3c38a2608d"
      },
      "execution_count": null,
      "outputs": [
        {
          "output_type": "stream",
          "name": "stdout",
          "text": [
            "(390, 65.0)\n"
          ]
        }
      ]
    },
    {
      "cell_type": "code",
      "source": [],
      "metadata": {
        "id": "O07xZMImJ9Tc"
      },
      "execution_count": null,
      "outputs": []
    }
  ]
}